{
 "cells": [
  {
   "cell_type": "code",
   "execution_count": 1,
   "metadata": {},
   "outputs": [],
   "source": [
    "import numpy as np\n",
    "import simulation\n",
    "import random\n",
    "import pickle\n",
    "from tqdm import tqdm"
   ]
  },
  {
   "cell_type": "code",
   "execution_count": 2,
   "metadata": {},
   "outputs": [],
   "source": [
    "def simulate_random(n, bubble_sizes, n_samples=128, out_channels=2, alpha_major=1.11e-4, alpha_minor=1.9e-5, dt=0.01):\n",
    "    if bubble_sizes is None:\n",
    "        bubble_sizes = [1]\n",
    "\n",
    "    data = []\n",
    "\n",
    "    for i in tqdm(range(n_samples)):\n",
    "        size = random.choice(bubble_sizes)\n",
    "\n",
    "        xyz_bubble = np.random.randint(1, n-size, size=3)\n",
    "        bubble = np.stack([xyz_bubble, xyz_bubble+size], axis=1)\n",
    "\n",
    "        label = np.concatenate([bubble.mean(axis=1)/n, [size/n]])\n",
    "\n",
    "        alpha = np.ones((n, n, n)) * alpha_major\n",
    "        alpha[bubble[0,0]:bubble[0,1],bubble[1,0]:bubble[1,1],bubble[2,0]:bubble[2,1]] = alpha_minor\n",
    "        T = simulation.simulate_heat_conduction(alpha, out_channels=out_channels, t_diff=5, dt=dt)\n",
    "\n",
    "        data.append((T, label)) \n",
    "        \n",
    "    return data"
   ]
  },
  {
   "cell_type": "code",
   "execution_count": 6,
   "metadata": {},
   "outputs": [
    {
     "name": "stderr",
     "output_type": "stream",
     "text": [
      "100%|██████████████████████████████████████████████████████████████████████████████| 1024/1024 [06:57<00:00,  2.45it/s]\n"
     ]
    }
   ],
   "source": [
    "alpha_Cu = 1.11e-4\n",
    "alpha_air = 1.9e-5\n",
    "\n",
    "data=simulate_random(n=32, bubble_sizes=[1,2,3,4,5], n_samples=1024, out_channels=2, alpha_major=alpha_Cu, alpha_minor=alpha_air, dt=0.01)\n",
    "#data=simulate_random(n=64, bubble_sizes=[2,3,4,5,6,7,8,9,10], n_samples=64, out_channels=2, alpha_major=alpha_Cu, alpha_minor=alpha_air, dt=0.0025)"
   ]
  },
  {
   "cell_type": "code",
   "execution_count": 9,
   "metadata": {},
   "outputs": [],
   "source": [
    "filename = f'./data/heat_cond_data_n32_2.pickle'\n",
    "with open(filename, mode='wb') as output_file:\n",
    "    pickle.dump(data, output_file)"
   ]
  },
  {
   "cell_type": "code",
   "execution_count": 42,
   "metadata": {
    "scrolled": true
   },
   "outputs": [
    {
     "name": "stdout",
     "output_type": "stream",
     "text": [
      "[0.625   0.65625 0.1875  0.125  ]\n"
     ]
    },
    {
     "data": {
      "image/png": "[encoded data removed]",
      "text/plain": [
       "<Figure size 504x504 with 1 Axes>"
      ]
     },
     "metadata": {
      "needs_background": "light"
     },
     "output_type": "display_data"
    }
   ],
   "source": [
    "t, l = data[0]\n",
    "print(l)\n",
    "simulation.plot_top_temperature(t, 0)"
   ]
  },
  {
   "cell_type": "code",
   "execution_count": null,
   "metadata": {},
   "outputs": [],
   "source": []
  }
 ],
 "metadata": {
  "kernelspec": {
   "display_name": "Python 3",
   "language": "python",
   "name": "python3"
  },
  "language_info": {
   "codemirror_mode": {
    "name": "ipython",
    "version": 3
   },
   "file_extension": ".py",
   "mimetype": "text/x-python",
   "name": "python",
   "nbconvert_exporter": "python",
   "pygments_lexer": "ipython3",
   "version": "3.8.5"
  }
 },
 "nbformat": 4,
 "nbformat_minor": 4
}
