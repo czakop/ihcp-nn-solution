{
 "cells": [
  {
   "cell_type": "code",
   "execution_count": null,
   "metadata": {
    "id": "IORSI1X8W5eM"
   },
   "outputs": [],
   "source": [
    "import numpy as np\n",
    "import pandas as pd\n",
    "import matplotlib.pyplot as plt\n",
    "import pickle\n",
    "from tqdm import tqdm\n",
    "import copy\n",
    "import time\n",
    "\n",
    "import torch\n",
    "from torch import nn\n",
    "from torchsummary import summary\n",
    "from torch.utils.data import DataLoader\n",
    "import torch.nn.functional as F"
   ]
  },
  {
   "cell_type": "code",
   "execution_count": null,
   "metadata": {
    "id": "uG9YZGlVXPo6"
   },
   "outputs": [],
   "source": [
    "import hc_utils as utils"
   ]
  },
  {
   "cell_type": "code",
   "execution_count": null,
   "metadata": {
    "colab": {
     "base_uri": "https://localhost:8080/"
    },
    "id": "iGYTQTPj3Qjs",
    "outputId": "a4944676-bf97-44ce-d79d-76feeed24c56"
   },
   "outputs": [
    {
     "data": {
      "text/plain": [
       "'cpu'"
      ]
     },
     "execution_count": 109,
     "metadata": {},
     "output_type": "execute_result"
    }
   ],
   "source": [
    "device = 'cuda' if torch.cuda.is_available() else 'cpu'\n",
    "device"
   ]
  },
  {
   "cell_type": "code",
   "execution_count": null,
   "metadata": {
    "id": "AAu3nTN_XIlN"
   },
   "outputs": [],
   "source": [
    "data32 = utils.load_data('./data/heat_cond_data_n32_new.pickle', normalize=True)\n",
    "train_loader32, test_loader32 = utils.get_data_loaders(data32, test_size=0.5, batch_size=128, training_noise=False)\n",
    "test_data = utils.load_data('./data/heat_cond_data_n64.pickle', normalize=True)\n",
    "train_loader64, test_loader64 = utils.get_data_loaders(test_data, test_size=0.2, batch_size=8, training_noise=False, normalize=False, random_state=21)\n",
    "test_loader = DataLoader(utils.HeatConductionDataset(test_data, noise=None), batch_size=1)"
   ]
  },
  {
   "cell_type": "code",
   "execution_count": null,
   "metadata": {
    "colab": {
     "base_uri": "https://localhost:8080/"
    },
    "id": "mWYT9PqUzuO9",
    "outputId": "dc5c3d1a-21c1-4d72-95e9-379d09946ee1"
   },
   "outputs": [
    {
     "data": {
      "text/plain": [
       "(1024, 1024)"
      ]
     },
     "execution_count": 112,
     "metadata": {},
     "output_type": "execute_result"
    }
   ],
   "source": [
    "len(train_loader32.dataset), len(test_loader32.dataset)"
   ]
  },
  {
   "cell_type": "code",
   "execution_count": null,
   "metadata": {
    "id": "T-sFQi_iF3Id"
   },
   "outputs": [],
   "source": [
    "with open('./data/heat_cond_data_n64.pickle', mode='rb') as input_file:\n",
    "        td = pickle.load(input_file)"
   ]
  },
  {
   "cell_type": "code",
   "execution_count": null,
   "metadata": {
    "id": "IixWvE2R2dpa"
   },
   "outputs": [],
   "source": [
    "class ConvNet(nn.Module):\n",
    "    def __init__(self, in_channels=2, out_features=4, bn=False, af=nn.ReLU(), transform_output=False):\n",
    "        super().__init__()\n",
    "\n",
    "        self.conv = nn.Sequential(\n",
    "            nn.Conv2d(in_channels=in_channels, out_channels=4, kernel_size=3, padding='same', padding_mode='reflect'),\n",
    "            nn.BatchNorm2d(num_features=4),\n",
    "            af,\n",
    "            nn.Conv2d(in_channels=4, out_channels=8, kernel_size=3, padding='same', padding_mode='reflect'),\n",
    "            nn.BatchNorm2d(num_features=8),\n",
    "            af,\n",
    "            nn.MaxPool2d(kernel_size=2, stride=2),\n",
    "            nn.Conv2d(in_channels=8, out_channels=16, kernel_size=3, padding='same', padding_mode='reflect'),\n",
    "            nn.BatchNorm2d(num_features=16),\n",
    "            af,\n",
    "            nn.Conv2d(in_channels=16, out_channels=32, kernel_size=3, padding='same', padding_mode='reflect'),\n",
    "            nn.BatchNorm2d(num_features=32),\n",
    "            af,\n",
    "            nn.MaxPool2d(kernel_size=2, stride=2),\n",
    "            nn.Conv2d(in_channels=32, out_channels=64, kernel_size=3, padding='same', padding_mode='reflect'),\n",
    "            nn.BatchNorm2d(num_features=64),\n",
    "            af,\n",
    "            nn.Conv2d(in_channels=64, out_channels=128, kernel_size=3, padding='same', padding_mode='reflect'),\n",
    "            nn.BatchNorm2d(num_features=128),\n",
    "            af,\n",
    "            nn.MaxPool2d(kernel_size=2, stride=2),\n",
    "            nn.Conv2d(in_channels=128, out_channels=256, kernel_size=3, padding='same', padding_mode='reflect'),\n",
    "            nn.BatchNorm2d(num_features=256),\n",
    "            af,\n",
    "        )\n",
    "        \n",
    "        self.avgpool = nn.AdaptiveAvgPool2d(output_size=1)\n",
    "        \n",
    "        self.fc = nn.Linear(in_features=256, out_features=out_features)\n",
    "\n",
    "        self.transform_output = transform_output\n",
    "        \n",
    "    def forward(self, x):\n",
    "        y = self.conv(x)\n",
    "        y = self.avgpool(y)\n",
    "        y = torch.flatten(y, start_dim=1)\n",
    "        y = self.fc(y)\n",
    "\n",
    "        if self.transform_output:\n",
    "            y = nn.functional.sigmoid(y)\n",
    "\n",
    "        return y"
   ]
  },
  {
   "cell_type": "code",
   "execution_count": null,
   "metadata": {
    "id": "BvY2vmvwXM08"
   },
   "outputs": [],
   "source": [
    "class DownConvBlock(nn.Module):\n",
    "    def __init__(self, in_channels, factor=2, negative_slope=0.2):\n",
    "        super().__init__()\n",
    "        \n",
    "        self.conv0 = nn.Conv2d(in_channels=in_channels, out_channels=4*in_channels, kernel_size=3, padding='same', padding_mode='reflect')\n",
    "        self.bn0 = nn.BatchNorm2d(num_features = 4*in_channels)\n",
    "        \n",
    "        self.conv1 = nn.Conv2d(in_channels=4*in_channels, out_channels=8*in_channels, kernel_size=3, padding='same', padding_mode='reflect')\n",
    "        self.bn1 = nn.BatchNorm2d(num_features = 8*in_channels)\n",
    "        \n",
    "        self.conv2 = nn.Conv2d(in_channels=8*in_channels, out_channels=factor*in_channels, kernel_size=2, stride=2)\n",
    "        self.bn2 = nn.BatchNorm2d(num_features = factor*in_channels)\n",
    "        \n",
    "        self.lrelu = nn.LeakyReLU(negative_slope=0.2)\n",
    "        self.downsample = nn.AvgPool2d(kernel_size=2, stride=2)\n",
    "        self.maxpool = nn.MaxPool2d(kernel_size=2, stride=2)\n",
    "        \n",
    "    def forward(self, x):\n",
    "        y = self.lrelu(self.conv0(x))\n",
    "        y = self.lrelu(self.conv1(y))\n",
    "        y = self.lrelu(self.conv2(y))\n",
    "        \n",
    "        y = y + self.downsample(x)\n",
    "        return y        "
   ]
  },
  {
   "cell_type": "code",
   "execution_count": null,
   "metadata": {
    "id": "3ZpgbrcsXm2k"
   },
   "outputs": [],
   "source": [
    "class HCEncoder(nn.Module):\n",
    "    def __init__(self, n_layers=5, in_channels=2, factor=2, negative_slope=0.2):\n",
    "        super().__init__()\n",
    "        \n",
    "        layers = []\n",
    "        \n",
    "        for i in range(n_layers):\n",
    "            layers.append(DownConvBlock(in_channels=in_channels*factor**i, factor=factor, negative_slope=negative_slope))\n",
    "        \n",
    "        self.blocks = nn.Sequential(*layers)\n",
    "           \n",
    "    def forward(self, x):\n",
    "        return self.blocks(x)"
   ]
  },
  {
   "cell_type": "code",
   "execution_count": null,
   "metadata": {
    "id": "kPbtgpNgXozv"
   },
   "outputs": [],
   "source": [
    "class UpConvBlock(nn.Module):\n",
    "    def __init__(self, in_channels, factor=2, negative_slope=0.2):\n",
    "        super().__init__()\n",
    "        \n",
    "        self.conv0 = nn.ConvTranspose2d(in_channels=in_channels, out_channels=8*in_channels, kernel_size=2, stride=2)\n",
    "        self.bn0 = nn.BatchNorm2d(num_features = 8*in_channels)\n",
    "        \n",
    "        self.conv1 = nn.Conv2d(in_channels=8*in_channels, out_channels=4*in_channels, kernel_size=3, padding='same', padding_mode='reflect')\n",
    "        self.bn1 = nn.BatchNorm2d(num_features = 4*in_channels)\n",
    "        \n",
    "        self.conv2 = nn.Conv2d(in_channels=4*in_channels, out_channels=int(in_channels/factor), kernel_size=3, padding='same', padding_mode='reflect')\n",
    "        self.bn2 = nn.BatchNorm2d(num_features = int(in_channels/factor))\n",
    "\n",
    "        self.lrelu = nn.LeakyReLU(negative_slope=0.2)\n",
    "        self.upsample = nn.Upsample(scale_factor = 2, mode='bilinear')\n",
    "        \n",
    "    def forward(self, x):\n",
    "        y = self.lrelu(self.bn0(self.conv0(x)))\n",
    "        y = self.lrelu(self.bn1(self.conv1(y)))\n",
    "        y = self.lrelu(self.bn2(self.conv2(y)))\n",
    "        #return self.upsample(x)        \n",
    "        return y  + self.upsample(x)"
   ]
  },
  {
   "cell_type": "code",
   "execution_count": null,
   "metadata": {
    "id": "xkB9XlCxXrRG"
   },
   "outputs": [],
   "source": [
    "class HCDecoder(nn.Module):\n",
    "    def __init__(self, n_layers=5, in_channels=32, factor=2, negative_slope=0.2):\n",
    "        super().__init__()\n",
    "        \n",
    "        layers = []\n",
    "        \n",
    "        for i in range(n_layers):\n",
    "            layers.append(UpConvBlock(in_channels=int(in_channels/factor**i), factor=factor, negative_slope=negative_slope))\n",
    "        \n",
    "        self.blocks = nn.Sequential(*layers)\n",
    "           \n",
    "    def forward(self, x):\n",
    "        return self.blocks(x)"
   ]
  },
  {
   "cell_type": "code",
   "execution_count": null,
   "metadata": {
    "id": "XglLydVCXwGr"
   },
   "outputs": [],
   "source": [
    "class HCAutoEncoder(nn.Module):\n",
    "    def __init__(self, regressor=None, n_layers=4, in_channels=2, factor=2, negative_slope=0.2, denoising=False):\n",
    "        super().__init__()\n",
    "        \n",
    "        self.denoising = denoising\n",
    "        \n",
    "        self.encoder = HCEncoder(n_layers=n_layers, in_channels=in_channels, factor=factor, negative_slope=negative_slope)\n",
    "        \n",
    "        self.decoder = HCDecoder(n_layers=n_layers, in_channels=int(in_channels*factor**n_layers), factor=factor, negative_slope=negative_slope)\n",
    "        \n",
    "        self.regressor = regressor\n",
    "           \n",
    "    def forward(self, x):\n",
    "        if self.denoising:\n",
    "            x += np.random.normal(0, 0.1, size=x.shape)\n",
    "            \n",
    "        latent = self.encoder(x)\n",
    "        reconst = self.decoder(latent)\n",
    "        y = self.regressor(latent) if self.regressor else None\n",
    "        return latent, reconst, y"
   ]
  },
  {
   "cell_type": "code",
   "execution_count": null,
   "metadata": {
    "id": "0Ao89I8wX8s7"
   },
   "outputs": [],
   "source": [
    "convnet = torch.load('./models/convnet32_3.model')"
   ]
  },
  {
   "cell_type": "code",
   "execution_count": null,
   "metadata": {
    "colab": {
     "base_uri": "https://localhost:8080/"
    },
    "id": "F2h_vmTJYcEV",
    "outputId": "5d046994-6b59-4e3d-f631-0ea6ac1942fa"
   },
   "outputs": [
    {
     "name": "stdout",
     "output_type": "stream",
     "text": [
      "----------------------------------------------------------------\n",
      "        Layer (type)               Output Shape         Param #\n",
      "================================================================\n",
      "            Conv2d-1            [-1, 4, 16, 16]              76\n",
      "       BatchNorm2d-2            [-1, 4, 16, 16]               8\n",
      "              ReLU-3            [-1, 4, 16, 16]               0\n",
      "            Conv2d-4            [-1, 8, 16, 16]             296\n",
      "       BatchNorm2d-5            [-1, 8, 16, 16]              16\n",
      "              ReLU-6            [-1, 8, 16, 16]               0\n",
      "         MaxPool2d-7              [-1, 8, 8, 8]               0\n",
      "            Conv2d-8             [-1, 16, 8, 8]           1,168\n",
      "       BatchNorm2d-9             [-1, 16, 8, 8]              32\n",
      "             ReLU-10             [-1, 16, 8, 8]               0\n",
      "           Conv2d-11             [-1, 32, 8, 8]           4,640\n",
      "      BatchNorm2d-12             [-1, 32, 8, 8]              64\n",
      "             ReLU-13             [-1, 32, 8, 8]               0\n",
      "        MaxPool2d-14             [-1, 32, 4, 4]               0\n",
      "           Conv2d-15             [-1, 64, 4, 4]          18,496\n",
      "      BatchNorm2d-16             [-1, 64, 4, 4]             128\n",
      "             ReLU-17             [-1, 64, 4, 4]               0\n",
      "           Conv2d-18            [-1, 128, 4, 4]          73,856\n",
      "      BatchNorm2d-19            [-1, 128, 4, 4]             256\n",
      "             ReLU-20            [-1, 128, 4, 4]               0\n",
      "        MaxPool2d-21            [-1, 128, 2, 2]               0\n",
      "           Conv2d-22            [-1, 256, 2, 2]         295,168\n",
      "      BatchNorm2d-23            [-1, 256, 2, 2]             512\n",
      "             ReLU-24            [-1, 256, 2, 2]               0\n",
      "AdaptiveAvgPool2d-25            [-1, 256, 1, 1]               0\n",
      "           Linear-26                    [-1, 4]           1,028\n",
      "================================================================\n",
      "Total params: 395,744\n",
      "Trainable params: 395,744\n",
      "Non-trainable params: 0\n",
      "----------------------------------------------------------------\n",
      "Input size (MB): 0.00\n",
      "Forward/backward pass size (MB): 0.25\n",
      "Params size (MB): 1.51\n",
      "Estimated Total Size (MB): 1.76\n",
      "----------------------------------------------------------------\n"
     ]
    }
   ],
   "source": [
    "summary(convnet.float(), (2,16,16))"
   ]
  },
  {
   "cell_type": "code",
   "execution_count": null,
   "metadata": {
    "colab": {
     "base_uri": "https://localhost:8080/"
    },
    "id": "e8fJBpy2YDoh",
    "outputId": "c7b04e2b-6eaa-4f1f-b9d7-952498cedc2f"
   },
   "outputs": [
    {
     "name": "stdout",
     "output_type": "stream",
     "text": [
      "----------------------------------------------------------------\n",
      "        Layer (type)               Output Shape         Param #\n",
      "================================================================\n",
      "            Conv2d-1            [-1, 8, 32, 32]             152\n",
      "         LeakyReLU-2            [-1, 8, 32, 32]               0\n",
      "            Conv2d-3           [-1, 16, 32, 32]           1,168\n",
      "         LeakyReLU-4           [-1, 16, 32, 32]               0\n",
      "            Conv2d-5            [-1, 2, 16, 16]             130\n",
      "         LeakyReLU-6            [-1, 2, 16, 16]               0\n",
      "         AvgPool2d-7            [-1, 2, 16, 16]               0\n",
      "     DownConvBlock-8            [-1, 2, 16, 16]               0\n",
      "         HCEncoder-9            [-1, 2, 16, 16]               0\n",
      "  ConvTranspose2d-10           [-1, 16, 32, 32]             144\n",
      "      BatchNorm2d-11           [-1, 16, 32, 32]              32\n",
      "        LeakyReLU-12           [-1, 16, 32, 32]               0\n",
      "           Conv2d-13            [-1, 8, 32, 32]           1,160\n",
      "      BatchNorm2d-14            [-1, 8, 32, 32]              16\n",
      "        LeakyReLU-15            [-1, 8, 32, 32]               0\n",
      "           Conv2d-16            [-1, 2, 32, 32]             146\n",
      "      BatchNorm2d-17            [-1, 2, 32, 32]               4\n",
      "        LeakyReLU-18            [-1, 2, 32, 32]               0\n",
      "         Upsample-19            [-1, 2, 32, 32]               0\n",
      "      UpConvBlock-20            [-1, 2, 32, 32]               0\n",
      "        HCDecoder-21            [-1, 2, 32, 32]               0\n",
      "           Conv2d-22            [-1, 4, 16, 16]              76\n",
      "      BatchNorm2d-23            [-1, 4, 16, 16]               8\n",
      "             ReLU-24            [-1, 4, 16, 16]               0\n",
      "           Conv2d-25            [-1, 8, 16, 16]             296\n",
      "      BatchNorm2d-26            [-1, 8, 16, 16]              16\n",
      "             ReLU-27            [-1, 8, 16, 16]               0\n",
      "        MaxPool2d-28              [-1, 8, 8, 8]               0\n",
      "           Conv2d-29             [-1, 16, 8, 8]           1,168\n",
      "      BatchNorm2d-30             [-1, 16, 8, 8]              32\n",
      "             ReLU-31             [-1, 16, 8, 8]               0\n",
      "           Conv2d-32             [-1, 32, 8, 8]           4,640\n",
      "      BatchNorm2d-33             [-1, 32, 8, 8]              64\n",
      "             ReLU-34             [-1, 32, 8, 8]               0\n",
      "        MaxPool2d-35             [-1, 32, 4, 4]               0\n",
      "           Conv2d-36             [-1, 64, 4, 4]          18,496\n",
      "      BatchNorm2d-37             [-1, 64, 4, 4]             128\n",
      "             ReLU-38             [-1, 64, 4, 4]               0\n",
      "           Conv2d-39            [-1, 128, 4, 4]          73,856\n",
      "      BatchNorm2d-40            [-1, 128, 4, 4]             256\n",
      "             ReLU-41            [-1, 128, 4, 4]               0\n",
      "        MaxPool2d-42            [-1, 128, 2, 2]               0\n",
      "           Conv2d-43            [-1, 256, 2, 2]         295,168\n",
      "      BatchNorm2d-44            [-1, 256, 2, 2]             512\n",
      "             ReLU-45            [-1, 256, 2, 2]               0\n",
      "AdaptiveAvgPool2d-46            [-1, 256, 1, 1]               0\n",
      "           Linear-47                    [-1, 4]           1,028\n",
      "          ConvNet-48                    [-1, 4]               0\n",
      "================================================================\n",
      "Total params: 398,696\n",
      "Trainable params: 398,696\n",
      "Non-trainable params: 0\n",
      "----------------------------------------------------------------\n",
      "Input size (MB): 0.01\n",
      "Forward/backward pass size (MB): 1.30\n",
      "Params size (MB): 1.52\n",
      "Estimated Total Size (MB): 2.83\n",
      "----------------------------------------------------------------\n"
     ]
    }
   ],
   "source": [
    "summary(HCAutoEncoder(convnet.float(), in_channels=2, n_layers=1, factor=1), (2,32,32))"
   ]
  },
  {
   "cell_type": "code",
   "execution_count": null,
   "metadata": {
    "id": "h0JYdazTYQR_"
   },
   "outputs": [],
   "source": [
    "class HCLoss(nn.Module):\n",
    "    def __init__(self, alpha=1):\n",
    "        super().__init__()\n",
    "        \n",
    "        self.alpha = alpha\n",
    "        self.metric = nn.MSELoss()\n",
    "        \n",
    "    def forward(self, x, x_hat, y, y_hat):\n",
    "        #return 2*self.metric(y[:,0], y_hat[:,0]) + self.metric(y[:,0:], y_hat[:,0:]) + self.alpha*self.metric(x, x_hat)\n",
    "        return self.metric(y, y_hat) + self.alpha*self.metric(x, x_hat)"
   ]
  },
  {
   "cell_type": "code",
   "execution_count": null,
   "metadata": {
    "id": "Ud1esd50d78d"
   },
   "outputs": [],
   "source": [
    "def epoch_step(model, dataloader, loss_fn, optimizer, device, train=True):\n",
    "    losses = []\n",
    "    \n",
    "    for x, y in dataloader:\n",
    "        x, y = x.to(device), y.to(device)\n",
    "\n",
    "        if train:\n",
    "            optimizer.zero_grad()\n",
    "            l, x_hat, y_hat = model(x)\n",
    "        else:\n",
    "            with torch.no_grad():\n",
    "                l, x_hat, y_hat = model(x)\n",
    "                \n",
    "        loss = loss_fn(x, x_hat, y, y_hat) if not y_hat is None else loss_fn(x, x_hat)\n",
    "\n",
    "        losses.append(loss.item())\n",
    "\n",
    "        if train:\n",
    "            loss.backward()\n",
    "            optimizer.step()\n",
    "            \n",
    "    return losses"
   ]
  },
  {
   "cell_type": "code",
   "execution_count": null,
   "metadata": {
    "id": "fsRXgmMQj7sn"
   },
   "outputs": [],
   "source": [
    "def epoch_step_test(model, dataloader, loss_fn, optimizer, device, train=True):\n",
    "    losses = []\n",
    "    \n",
    "    for x, y in dataloader:\n",
    "        x, y = x.to(device), y.to(device)\n",
    "\n",
    "        if train:\n",
    "            optimizer.zero_grad()\n",
    "            preds = model(x)\n",
    "        else:\n",
    "            with torch.no_grad():\n",
    "                preds = model(x)\n",
    "\n",
    "        loss = loss_fn(preds, y)\n",
    "\n",
    "        losses.append(loss.item())\n",
    "\n",
    "        if train:\n",
    "            loss.backward()\n",
    "            optimizer.step()\n",
    "            \n",
    "    return losses"
   ]
  },
  {
   "cell_type": "code",
   "execution_count": null,
   "metadata": {
    "id": "Led8gf-6d-xh"
   },
   "outputs": [],
   "source": [
    "def train_model(model, traindata, valdata, loss_fn, optimizer, device, n_epoch, testdata=None, test_regressor=None, prog_bar_desc='Epochs', early_stop=False, patience=10, warmup=10):\n",
    "    train_losses, valid_losses, test_losses = [], [], []\n",
    "    model = model.to(device)\n",
    "    patience_counter = 0\n",
    "    min_loss = 1\n",
    "    best_model = None\n",
    "\n",
    "    for i in tqdm(range(n_epoch), desc=prog_bar_desc):\n",
    "        model.train()\n",
    "        epoch_losses = epoch_step(model, traindata, loss_fn, optimizer, device, train=True)\n",
    "        train_losses.append(np.mean(epoch_losses))\n",
    "\n",
    "        model.eval()\n",
    "        epoch_losses = epoch_step(model, valdata, loss_fn, optimizer, device, train=False)\n",
    "        valid_losses.append(np.mean(epoch_losses))\n",
    "\n",
    "        if testdata and test_regressor:\n",
    "            predictor = nn.Sequential(model.encoder, test_regressor)\n",
    "            epoch_losses = epoch_step_test(predictor, testdata, nn.MSELoss(), None, device, train=False)\n",
    "            test_losses.append(np.mean(epoch_losses))\n",
    "\n",
    "        if early_stop:\n",
    "            if i > warmup and valid_losses[-1] < min_loss:\n",
    "                patience_counter = 0\n",
    "                min_loss = valid_losses[-1]\n",
    "                best_model = copy.deepcopy(model)\n",
    "            elif patience_counter > patience:\n",
    "                break\n",
    "            elif i > warmup:\n",
    "                patience_counter += 1\n",
    "\n",
    "    return train_losses, valid_losses, test_losses, best_model"
   ]
  },
  {
   "cell_type": "code",
   "execution_count": null,
   "metadata": {
    "id": "SsS_2or7se8B"
   },
   "outputs": [],
   "source": [
    "alphas = [0.01, 0.05, 0.1, 0.2, 1]\n",
    "denoisings = [False]"
   ]
  },
  {
   "cell_type": "code",
   "execution_count": null,
   "metadata": {
    "colab": {
     "base_uri": "https://localhost:8080/"
    },
    "id": "GNxr2CVsspJF",
    "outputId": "5c060cef-c847-47d6-c67b-16c7cf8b38be"
   },
   "outputs": [
    {
     "name": "stderr",
     "output_type": "stream",
     "text": [
      "Epochs:  22%|███████████████▉                                                        | 111/500 [06:34<23:03,  3.56s/it]\n",
      "Epochs:  51%|████████████████████████████████████▊                                   | 256/500 [16:01<15:15,  3.75s/it]\n"
     ]
    }
   ],
   "source": [
    "results = []\n",
    "models = []\n",
    "n_epoch = 500\n",
    "\n",
    "for alpha in alphas:\n",
    "    for denoising in denoisings:\n",
    "        convnet = torch.load('./models/convnet32_3.model')\n",
    "        model = HCAutoEncoder(in_channels=2, n_layers=1, factor=1, denoising=denoising).double()\n",
    "        sgd0 = torch.optim.SGD(model.parameters(), lr=0.01, momentum=0.9, weight_decay=1e-1)\n",
    "        criterion0 = nn.MSELoss()\n",
    "        \n",
    "\n",
    "        start_time = time.time()\n",
    "        #train_losses0, valid_losses0, model = train_model(model, train_loader64, test_loader64, criterion0, sgd0, device, 100, early_stop=True, patience=5)\n",
    "        model.regressor = copy.deepcopy(convnet)\n",
    "        for param in model.regressor.parameters():\n",
    "            param.grad = None\n",
    "            param.requires_grad = False\n",
    "        sgd = torch.optim.SGD(filter(lambda p: p.requires_grad, model.parameters()), lr=0.01, momentum=0.9, weight_decay=1e-3)\n",
    "        criterion = HCLoss(alpha=alpha)\n",
    "        train_losses1, valid_losses1, _, model = train_model(model, train_loader32, test_loader32, criterion, sgd, device, n_epoch, early_stop=True, patience=5)\n",
    "        model.requires_grad_(True)\n",
    "        # for param_group in sgd.param_groups:\n",
    "        #     param_group['lr'] = 0.001\n",
    "        sgd = torch.optim.SGD(model.parameters(), lr=0.001, momentum=0.9, weight_decay=1e-3)\n",
    "        train_losses_fn, valid_losses_fn, _, model = train_model(model, train_loader32, test_loader32, criterion, sgd, device, n_epoch, early_stop=True, patience=5)\n",
    "        end_time = time.time()\n",
    "\n",
    "        warmup = np.argmin(valid_losses1)\n",
    "        finish = np.argmin(valid_losses_fn)\n",
    "        train_losses = train_losses1[:warmup+1] + train_losses_fn[:finish+1]\n",
    "        valid_losses = valid_losses1[:warmup+1] + valid_losses_fn[:finish+1]\n",
    "\n",
    "        predictor = nn.Sequential(\n",
    "            model.encoder,\n",
    "            convnet\n",
    "        )\n",
    "        test_ev = utils.Evaluator(predictor, dataset=test_data)\n",
    "        test_loss = test_ev.calculate_loss()\n",
    "\n",
    "        results.append((alpha, denoising, train_losses, valid_losses, warmup, end_time-start_time, test_loss))\n",
    "        models.append((alpha, model))"
   ]
  },
  {
   "cell_type": "code",
   "execution_count": null,
   "metadata": {
    "colab": {
     "base_uri": "https://localhost:8080/"
    },
    "id": "MwFoRCWJiRSp",
    "outputId": "52fc007a-43de-4e46-e067-7504c583ed54"
   },
   "outputs": [
    {
     "name": "stderr",
     "output_type": "stream",
     "text": [
      "Epochs:   9%|██████▍                                                                  | 44/500 [02:32<26:24,  3.47s/it]\n",
      "Epochs:  22%|████████████████▏                                                       | 112/500 [05:48<20:07,  3.11s/it]\n",
      "Epochs:  18%|█████████████▏                                                           | 90/500 [04:53<22:18,  3.27s/it]\n",
      "Epochs:   8%|█████▉                                                                   | 41/500 [02:13<24:53,  3.25s/it]\n",
      "Epochs:   9%|██████▋                                                                  | 46/500 [02:33<25:14,  3.34s/it]\n"
     ]
    }
   ],
   "source": [
    "results = []\n",
    "models = []\n",
    "n_epoch = 500\n",
    "\n",
    "for alpha in alphas:\n",
    "    for denoising in denoisings:\n",
    "        convnet = torch.load('./models/convnet32_3.model')\n",
    "        model = HCAutoEncoder(ConvNet(bn=True, af=nn.ReLU(), transform_output=True), in_channels=2, n_layers=1, factor=1, denoising=denoising).double()\n",
    "        sgd0 = torch.optim.SGD(model.parameters(), lr=0.01, momentum=0.9, weight_decay=1e-1)\n",
    "        criterion0 = nn.MSELoss()\n",
    "        \n",
    "\n",
    "        start_time = time.time()\n",
    "        #train_losses0, valid_losses0, model = train_model(model, train_loader64, test_loader64, criterion0, sgd0, device, 100, early_stop=True, patience=5)\n",
    "       \n",
    "        sgd = torch.optim.SGD(filter(lambda p: p.requires_grad, model.parameters()), lr=0.01, momentum=0.9, weight_decay=1e-3)\n",
    "        criterion = HCLoss(alpha=alpha)\n",
    "        train_losses, valid_losses, test_losses, model = train_model(model, train_loader32, test_loader32, criterion, sgd, device, n_epoch, testdata=test_loader, test_regressor=convnet, early_stop=True, warmup=5, patience=10)\n",
    "        end_time = time.time()\n",
    "\n",
    "        results.append((alpha, denoising, train_losses, valid_losses, test_losses, end_time-start_time))\n",
    "        models.append((alpha, model))"
   ]
  },
  {
   "cell_type": "code",
   "execution_count": null,
   "metadata": {
    "colab": {
     "base_uri": "https://localhost:8080/"
    },
    "id": "v4Y1DZw6qvfH",
    "outputId": "7c0111b7-d1ee-47a6-855e-2e7b3a4bf48f"
   },
   "outputs": [
    {
     "name": "stderr",
     "output_type": "stream",
     "text": [
      "Epochs:  20%|██████████████▍                                                         | 100/500 [06:47<27:11,  4.08s/it]\n",
      "Epochs:  21%|███████████████▍                                                        | 107/500 [07:08<26:13,  4.00s/it]\n",
      "Epochs:  21%|██████████████▉                                                         | 104/500 [07:00<26:43,  4.05s/it]\n",
      "Epochs:  17%|████████████▌                                                            | 86/500 [05:55<28:33,  4.14s/it]\n",
      "Epochs:  23%|████████████████▍                                                       | 114/500 [07:58<27:01,  4.20s/it]\n"
     ]
    }
   ],
   "source": [
    "results0 = []\n",
    "models0 = []\n",
    "n_epoch = 500\n",
    "\n",
    "for alpha in alphas:\n",
    "    for denoising in denoisings:\n",
    "        convnet = torch.load('./models/convnet32_3.model')\n",
    "        model = HCAutoEncoder(ConvNet(bn=True, af=nn.ReLU(), transform_output=True), in_channels=2, n_layers=1, factor=1, denoising=denoising).double()\n",
    "        sgd0 = torch.optim.SGD(model.parameters(), lr=0.01, momentum=0.9, weight_decay=1e-1)\n",
    "        criterion0 = nn.MSELoss()\n",
    "        \n",
    "\n",
    "        start_time = time.time()\n",
    "        #train_losses0, valid_losses0, _,  model = train_model(model, train_loader64, test_loader64, criterion0, sgd0, device, 100, early_stop=True, patience=5)\n",
    "       \n",
    "        sgd = torch.optim.SGD(filter(lambda p: p.requires_grad, model.parameters()), lr=0.01, momentum=0.9, weight_decay=1e-3)\n",
    "        criterion = HCLoss(alpha=alpha)\n",
    "        train_losses, valid_losses, test_losses, model = train_model(model, train_loader32, test_loader32, criterion, sgd, device, n_epoch, testdata=test_loader, test_regressor=convnet, early_stop=True, warmup=5, patience=10)\n",
    "        end_time = time.time()\n",
    "\n",
    "        results0.append((alpha, denoising, train_losses, valid_losses, test_losses, end_time-start_time))\n",
    "        models0.append((alpha, model))"
   ]
  },
  {
   "cell_type": "code",
   "execution_count": null,
   "metadata": {
    "colab": {
     "base_uri": "https://localhost:8080/"
    },
    "id": "CaJycye8zZVX",
    "outputId": "7556139a-f132-496a-8ccb-b4f4b7bc3a51"
   },
   "outputs": [
    {
     "name": "stderr",
     "output_type": "stream",
     "text": [
      "Epochs:  32%|███████████████████████▎                                                 | 32/100 [00:20<00:43,  1.56it/s]\n",
      "Epochs:  13%|█████████▏                                                               | 63/500 [04:21<30:14,  4.15s/it]\n",
      "Epochs:  35%|█████████████████████████▌                                               | 35/100 [00:21<00:39,  1.64it/s]\n",
      "Epochs:  12%|████████▉                                                                | 61/500 [04:12<30:17,  4.14s/it]\n",
      "Epochs:  36%|██████████████████████████▎                                              | 36/100 [00:21<00:38,  1.65it/s]\n",
      "Epochs:  19%|██████████████                                                           | 96/500 [06:45<28:24,  4.22s/it]\n",
      "Epochs:  34%|████████████████████████▊                                                | 34/100 [00:19<00:38,  1.71it/s]\n",
      "Epochs:  17%|████████████▎                                                            | 84/500 [05:36<27:47,  4.01s/it]\n",
      "Epochs:  27%|███████████████████▋                                                     | 27/100 [00:15<00:41,  1.77it/s]\n",
      "Epochs:  10%|███████▍                                                                 | 51/500 [03:38<32:00,  4.28s/it]\n"
     ]
    }
   ],
   "source": [
    "results2 = []\n",
    "models2 = []\n",
    "n_epoch = 500\n",
    "\n",
    "for alpha in alphas:\n",
    "    for denoising in denoisings:\n",
    "        convnet = torch.load('./models/convnet32_3.model')\n",
    "        model = HCAutoEncoder(in_channels=2, n_layers=1, factor=1, denoising=denoising).double()\n",
    "        sgd0 = torch.optim.SGD(model.parameters(), lr=0.01, momentum=0.9, weight_decay=1e-1)\n",
    "        criterion0 = nn.MSELoss()\n",
    "        \n",
    "\n",
    "        start_time = time.time()\n",
    "        train_losses0, valid_losses0, _,  model = train_model(model, train_loader64, test_loader64, criterion0, sgd0, device, 100, early_stop=True, patience=5)\n",
    "        model.regressor=ConvNet(bn=True, af=nn.ReLU(), transform_output=True).double()\n",
    "        sgd = torch.optim.SGD(filter(lambda p: p.requires_grad, model.parameters()), lr=0.01, momentum=0.9, weight_decay=1e-3)\n",
    "        criterion = HCLoss(alpha=alpha)\n",
    "        train_losses, valid_losses, test_losses, model = train_model(model, train_loader32, test_loader32, criterion, sgd, device, n_epoch, testdata=test_loader, test_regressor=convnet, early_stop=True, warmup=5, patience=10)\n",
    "        end_time = time.time()\n",
    "\n",
    "        results2.append((alpha, denoising, train_losses, valid_losses, test_losses, end_time-start_time))\n",
    "        models2.append((alpha, model))"
   ]
  },
  {
   "cell_type": "code",
   "execution_count": null,
   "metadata": {
    "colab": {
     "base_uri": "https://localhost:8080/",
     "height": 206
    },
    "id": "F3akDk_Yua-I",
    "outputId": "b9681851-ff7e-47d8-eddc-596106f485af"
   },
   "outputs": [
    {
     "data": {
      "text/html": [
       "<div>\n",
       "<style scoped>\n",
       "    .dataframe tbody tr th:only-of-type {\n",
       "        vertical-align: middle;\n",
       "    }\n",
       "\n",
       "    .dataframe tbody tr th {\n",
       "        vertical-align: top;\n",
       "    }\n",
       "\n",
       "    .dataframe thead th {\n",
       "        text-align: right;\n",
       "    }\n",
       "</style>\n",
       "<table border=\"1\" class=\"dataframe\">\n",
       "  <thead>\n",
       "    <tr style=\"text-align: right;\">\n",
       "      <th></th>\n",
       "      <th>alpha</th>\n",
       "      <th>denoising</th>\n",
       "      <th>train_losses</th>\n",
       "      <th>valid_losses</th>\n",
       "      <th>test_losses</th>\n",
       "      <th>exec_time</th>\n",
       "      <th>epochs</th>\n",
       "      <th>min_loss</th>\n",
       "      <th>unit_time</th>\n",
       "    </tr>\n",
       "  </thead>\n",
       "  <tbody>\n",
       "    <tr>\n",
       "      <th>0</th>\n",
       "      <td>0.01</td>\n",
       "      <td>False</td>\n",
       "      <td>[0.17641831479661665, 0.1204215723484082, 0.08...</td>\n",
       "      <td>[0.21221859356178624, 0.20439636111556653, 0.2...</td>\n",
       "      <td>[0.00809908162831846, 0.008238143543636056, 0....</td>\n",
       "      <td>152.854381</td>\n",
       "      <td>45</td>\n",
       "      <td>0.011900</td>\n",
       "      <td>3.396764</td>\n",
       "    </tr>\n",
       "    <tr>\n",
       "      <th>1</th>\n",
       "      <td>0.05</td>\n",
       "      <td>False</td>\n",
       "      <td>[0.20064236471367247, 0.14160729439986658, 0.0...</td>\n",
       "      <td>[0.21522809473595228, 0.19484879073422307, 0.1...</td>\n",
       "      <td>[0.01682969261586348, 0.01754157128343098, 0.0...</td>\n",
       "      <td>348.598795</td>\n",
       "      <td>113</td>\n",
       "      <td>0.004766</td>\n",
       "      <td>3.084945</td>\n",
       "    </tr>\n",
       "    <tr>\n",
       "      <th>2</th>\n",
       "      <td>0.10</td>\n",
       "      <td>False</td>\n",
       "      <td>[0.18782014311007567, 0.1421595656495553, 0.11...</td>\n",
       "      <td>[0.21140419140038796, 0.19192056722417233, 0.1...</td>\n",
       "      <td>[0.06529276732261056, 0.059487959134779854, 0....</td>\n",
       "      <td>293.896492</td>\n",
       "      <td>91</td>\n",
       "      <td>0.002103</td>\n",
       "      <td>3.229632</td>\n",
       "    </tr>\n",
       "    <tr>\n",
       "      <th>3</th>\n",
       "      <td>0.20</td>\n",
       "      <td>False</td>\n",
       "      <td>[0.1787486014322664, 0.11428345792265641, 0.07...</td>\n",
       "      <td>[0.2262619692338966, 0.2619569302483643, 0.359...</td>\n",
       "      <td>[0.002440473012506479, 0.0026970562915367927, ...</td>\n",
       "      <td>133.433994</td>\n",
       "      <td>42</td>\n",
       "      <td>0.012810</td>\n",
       "      <td>3.177000</td>\n",
       "    </tr>\n",
       "    <tr>\n",
       "      <th>4</th>\n",
       "      <td>1.00</td>\n",
       "      <td>False</td>\n",
       "      <td>[0.186942330301406, 0.11629229865733672, 0.070...</td>\n",
       "      <td>[0.22381575055711464, 0.22727828462317184, 0.3...</td>\n",
       "      <td>[0.05775073709323357, 0.03615628012073534, 0.0...</td>\n",
       "      <td>153.503589</td>\n",
       "      <td>47</td>\n",
       "      <td>0.024068</td>\n",
       "      <td>3.266034</td>\n",
       "    </tr>\n",
       "  </tbody>\n",
       "</table>\n",
       "</div>"
      ],
      "text/plain": [
       "   alpha  denoising                                       train_losses  \\\n",
       "0   0.01      False  [0.17641831479661665, 0.1204215723484082, 0.08...   \n",
       "1   0.05      False  [0.20064236471367247, 0.14160729439986658, 0.0...   \n",
       "2   0.10      False  [0.18782014311007567, 0.1421595656495553, 0.11...   \n",
       "3   0.20      False  [0.1787486014322664, 0.11428345792265641, 0.07...   \n",
       "4   1.00      False  [0.186942330301406, 0.11629229865733672, 0.070...   \n",
       "\n",
       "                                        valid_losses  \\\n",
       "0  [0.21221859356178624, 0.20439636111556653, 0.2...   \n",
       "1  [0.21522809473595228, 0.19484879073422307, 0.1...   \n",
       "2  [0.21140419140038796, 0.19192056722417233, 0.1...   \n",
       "3  [0.2262619692338966, 0.2619569302483643, 0.359...   \n",
       "4  [0.22381575055711464, 0.22727828462317184, 0.3...   \n",
       "\n",
       "                                         test_losses   exec_time  epochs  \\\n",
       "0  [0.00809908162831846, 0.008238143543636056, 0....  152.854381      45   \n",
       "1  [0.01682969261586348, 0.01754157128343098, 0.0...  348.598795     113   \n",
       "2  [0.06529276732261056, 0.059487959134779854, 0....  293.896492      91   \n",
       "3  [0.002440473012506479, 0.0026970562915367927, ...  133.433994      42   \n",
       "4  [0.05775073709323357, 0.03615628012073534, 0.0...  153.503589      47   \n",
       "\n",
       "   min_loss  unit_time  \n",
       "0  0.011900   3.396764  \n",
       "1  0.004766   3.084945  \n",
       "2  0.002103   3.229632  \n",
       "3  0.012810   3.177000  \n",
       "4  0.024068   3.266034  "
      ]
     },
     "execution_count": 309,
     "metadata": {},
     "output_type": "execute_result"
    }
   ],
   "source": [
    "df = pd.DataFrame(results, columns=['alpha', 'denoising', 'train_losses', 'valid_losses', 'test_losses', 'exec_time'])\n",
    "df['epochs'] = df.valid_losses.apply(lambda x: len(x))\n",
    "df['min_loss'] = df.test_losses.apply(lambda x: np.min(x[10:]))\n",
    "df['unit_time'] = df.exec_time / df.epochs\n",
    "df"
   ]
  },
  {
   "cell_type": "code",
   "execution_count": null,
   "metadata": {
    "colab": {
     "base_uri": "https://localhost:8080/",
     "height": 206
    },
    "id": "RIbOpgScro4x",
    "outputId": "732f8dfe-7b9b-4c5a-83a5-944ead9e67db"
   },
   "outputs": [
    {
     "data": {
      "text/html": [
       "<div>\n",
       "<style scoped>\n",
       "    .dataframe tbody tr th:only-of-type {\n",
       "        vertical-align: middle;\n",
       "    }\n",
       "\n",
       "    .dataframe tbody tr th {\n",
       "        vertical-align: top;\n",
       "    }\n",
       "\n",
       "    .dataframe thead th {\n",
       "        text-align: right;\n",
       "    }\n",
       "</style>\n",
       "<table border=\"1\" class=\"dataframe\">\n",
       "  <thead>\n",
       "    <tr style=\"text-align: right;\">\n",
       "      <th></th>\n",
       "      <th>alpha</th>\n",
       "      <th>denoising</th>\n",
       "      <th>train_losses</th>\n",
       "      <th>valid_losses</th>\n",
       "      <th>test_losses</th>\n",
       "      <th>exec_time</th>\n",
       "      <th>epochs</th>\n",
       "      <th>min_loss</th>\n",
       "      <th>unit_time</th>\n",
       "    </tr>\n",
       "  </thead>\n",
       "  <tbody>\n",
       "    <tr>\n",
       "      <th>0</th>\n",
       "      <td>0.01</td>\n",
       "      <td>False</td>\n",
       "      <td>[0.17883743097611288, 0.13663928231370548, 0.1...</td>\n",
       "      <td>[0.2153157511940478, 0.20409017523986905, 0.17...</td>\n",
       "      <td>[0.016954781221617757, 0.01706207444298503, 0....</td>\n",
       "      <td>407.786453</td>\n",
       "      <td>101</td>\n",
       "      <td>0.012321</td>\n",
       "      <td>4.037490</td>\n",
       "    </tr>\n",
       "    <tr>\n",
       "      <th>1</th>\n",
       "      <td>0.05</td>\n",
       "      <td>False</td>\n",
       "      <td>[0.21439013220775924, 0.14436250730076003, 0.0...</td>\n",
       "      <td>[0.21204499534393123, 0.1979969874173132, 0.25...</td>\n",
       "      <td>[0.006668142717244087, 0.005400748485847696, 0...</td>\n",
       "      <td>428.421439</td>\n",
       "      <td>108</td>\n",
       "      <td>0.038132</td>\n",
       "      <td>3.966865</td>\n",
       "    </tr>\n",
       "    <tr>\n",
       "      <th>2</th>\n",
       "      <td>0.10</td>\n",
       "      <td>False</td>\n",
       "      <td>[0.23965666930884075, 0.17157490011724771, 0.1...</td>\n",
       "      <td>[0.2150743010277658, 0.20231134539521217, 0.22...</td>\n",
       "      <td>[0.042518066487519886, 0.04140985305322667, 0....</td>\n",
       "      <td>420.998527</td>\n",
       "      <td>105</td>\n",
       "      <td>0.029369</td>\n",
       "      <td>4.009510</td>\n",
       "    </tr>\n",
       "    <tr>\n",
       "      <th>3</th>\n",
       "      <td>0.20</td>\n",
       "      <td>False</td>\n",
       "      <td>[0.27474383070032843, 0.1267989966583152, 0.07...</td>\n",
       "      <td>[0.2188328210736959, 0.23634649843792674, 0.31...</td>\n",
       "      <td>[0.0041749312622648095, 0.017829112496371532, ...</td>\n",
       "      <td>355.860409</td>\n",
       "      <td>87</td>\n",
       "      <td>0.034057</td>\n",
       "      <td>4.090350</td>\n",
       "    </tr>\n",
       "    <tr>\n",
       "      <th>4</th>\n",
       "      <td>1.00</td>\n",
       "      <td>False</td>\n",
       "      <td>[0.4201436432444459, 0.17131252128507377, 0.11...</td>\n",
       "      <td>[0.22029482389936164, 0.20439553530889548, 0.1...</td>\n",
       "      <td>[0.03922610621842404, 0.031596493897282626, 0....</td>\n",
       "      <td>478.923318</td>\n",
       "      <td>115</td>\n",
       "      <td>0.020681</td>\n",
       "      <td>4.164551</td>\n",
       "    </tr>\n",
       "  </tbody>\n",
       "</table>\n",
       "</div>"
      ],
      "text/plain": [
       "   alpha  denoising                                       train_losses  \\\n",
       "0   0.01      False  [0.17883743097611288, 0.13663928231370548, 0.1...   \n",
       "1   0.05      False  [0.21439013220775924, 0.14436250730076003, 0.0...   \n",
       "2   0.10      False  [0.23965666930884075, 0.17157490011724771, 0.1...   \n",
       "3   0.20      False  [0.27474383070032843, 0.1267989966583152, 0.07...   \n",
       "4   1.00      False  [0.4201436432444459, 0.17131252128507377, 0.11...   \n",
       "\n",
       "                                        valid_losses  \\\n",
       "0  [0.2153157511940478, 0.20409017523986905, 0.17...   \n",
       "1  [0.21204499534393123, 0.1979969874173132, 0.25...   \n",
       "2  [0.2150743010277658, 0.20231134539521217, 0.22...   \n",
       "3  [0.2188328210736959, 0.23634649843792674, 0.31...   \n",
       "4  [0.22029482389936164, 0.20439553530889548, 0.1...   \n",
       "\n",
       "                                         test_losses   exec_time  epochs  \\\n",
       "0  [0.016954781221617757, 0.01706207444298503, 0....  407.786453     101   \n",
       "1  [0.006668142717244087, 0.005400748485847696, 0...  428.421439     108   \n",
       "2  [0.042518066487519886, 0.04140985305322667, 0....  420.998527     105   \n",
       "3  [0.0041749312622648095, 0.017829112496371532, ...  355.860409      87   \n",
       "4  [0.03922610621842404, 0.031596493897282626, 0....  478.923318     115   \n",
       "\n",
       "   min_loss  unit_time  \n",
       "0  0.012321   4.037490  \n",
       "1  0.038132   3.966865  \n",
       "2  0.029369   4.009510  \n",
       "3  0.034057   4.090350  \n",
       "4  0.020681   4.164551  "
      ]
     },
     "execution_count": 310,
     "metadata": {},
     "output_type": "execute_result"
    }
   ],
   "source": [
    "df0 = pd.DataFrame(results0, columns=['alpha', 'denoising', 'train_losses', 'valid_losses', 'test_losses', 'exec_time'])\n",
    "df0['epochs'] = df0.valid_losses.apply(lambda x: len(x))\n",
    "df0['min_loss'] = df0.test_losses.apply(lambda x: np.min(x[10:]))\n",
    "df0['unit_time'] = df0.exec_time / df0.epochs\n",
    "df0"
   ]
  },
  {
   "cell_type": "code",
   "execution_count": null,
   "metadata": {
    "colab": {
     "base_uri": "https://localhost:8080/",
     "height": 206
    },
    "id": "NMoi3CR65yIm",
    "outputId": "50de7950-8a49-49c8-ad97-9bd521168237"
   },
   "outputs": [
    {
     "data": {
      "text/html": [
       "<div>\n",
       "<style scoped>\n",
       "    .dataframe tbody tr th:only-of-type {\n",
       "        vertical-align: middle;\n",
       "    }\n",
       "\n",
       "    .dataframe tbody tr th {\n",
       "        vertical-align: top;\n",
       "    }\n",
       "\n",
       "    .dataframe thead th {\n",
       "        text-align: right;\n",
       "    }\n",
       "</style>\n",
       "<table border=\"1\" class=\"dataframe\">\n",
       "  <thead>\n",
       "    <tr style=\"text-align: right;\">\n",
       "      <th></th>\n",
       "      <th>alpha</th>\n",
       "      <th>denoising</th>\n",
       "      <th>train_losses</th>\n",
       "      <th>valid_losses</th>\n",
       "      <th>test_losses</th>\n",
       "      <th>exec_time</th>\n",
       "      <th>epochs</th>\n",
       "      <th>min_loss</th>\n",
       "      <th>unit_time</th>\n",
       "    </tr>\n",
       "  </thead>\n",
       "  <tbody>\n",
       "    <tr>\n",
       "      <th>0</th>\n",
       "      <td>0.01</td>\n",
       "      <td>False</td>\n",
       "      <td>[0.173943928952089, 0.11692884340864163, 0.077...</td>\n",
       "      <td>[0.21040271373347424, 0.21620595267113918, 0.2...</td>\n",
       "      <td>[0.018050740594853783, 0.01805050244017749, 0....</td>\n",
       "      <td>282.171350</td>\n",
       "      <td>64</td>\n",
       "      <td>0.018075</td>\n",
       "      <td>4.408927</td>\n",
       "    </tr>\n",
       "    <tr>\n",
       "      <th>1</th>\n",
       "      <td>0.05</td>\n",
       "      <td>False</td>\n",
       "      <td>[0.16660506942784914, 0.1020302824353106, 0.07...</td>\n",
       "      <td>[0.2173453383506822, 0.23335523527887608, 0.26...</td>\n",
       "      <td>[0.019781119110100383, 0.01977743409747047, 0....</td>\n",
       "      <td>273.898427</td>\n",
       "      <td>62</td>\n",
       "      <td>0.019772</td>\n",
       "      <td>4.417717</td>\n",
       "    </tr>\n",
       "    <tr>\n",
       "      <th>2</th>\n",
       "      <td>0.10</td>\n",
       "      <td>False</td>\n",
       "      <td>[0.19620390052858339, 0.13768150215378294, 0.0...</td>\n",
       "      <td>[0.22201389305975539, 0.20771127165525194, 0.1...</td>\n",
       "      <td>[0.019901184759765073, 0.01990536731084182, 0....</td>\n",
       "      <td>426.909626</td>\n",
       "      <td>97</td>\n",
       "      <td>0.019976</td>\n",
       "      <td>4.401130</td>\n",
       "    </tr>\n",
       "    <tr>\n",
       "      <th>3</th>\n",
       "      <td>0.20</td>\n",
       "      <td>False</td>\n",
       "      <td>[0.17262573264924688, 0.11564079495980704, 0.0...</td>\n",
       "      <td>[0.22040948417977452, 0.21119109099507888, 0.2...</td>\n",
       "      <td>[0.018448611511359028, 0.0184232709310751, 0.0...</td>\n",
       "      <td>356.494488</td>\n",
       "      <td>85</td>\n",
       "      <td>0.018496</td>\n",
       "      <td>4.194053</td>\n",
       "    </tr>\n",
       "    <tr>\n",
       "      <th>4</th>\n",
       "      <td>1.00</td>\n",
       "      <td>False</td>\n",
       "      <td>[0.17802912295141698, 0.12887107291234956, 0.0...</td>\n",
       "      <td>[0.22221824932468665, 0.22270271723855334, 0.1...</td>\n",
       "      <td>[0.017903659113515633, 0.01770939281151737, 0....</td>\n",
       "      <td>233.423172</td>\n",
       "      <td>52</td>\n",
       "      <td>0.017754</td>\n",
       "      <td>4.488907</td>\n",
       "    </tr>\n",
       "  </tbody>\n",
       "</table>\n",
       "</div>"
      ],
      "text/plain": [
       "   alpha  denoising                                       train_losses  \\\n",
       "0   0.01      False  [0.173943928952089, 0.11692884340864163, 0.077...   \n",
       "1   0.05      False  [0.16660506942784914, 0.1020302824353106, 0.07...   \n",
       "2   0.10      False  [0.19620390052858339, 0.13768150215378294, 0.0...   \n",
       "3   0.20      False  [0.17262573264924688, 0.11564079495980704, 0.0...   \n",
       "4   1.00      False  [0.17802912295141698, 0.12887107291234956, 0.0...   \n",
       "\n",
       "                                        valid_losses  \\\n",
       "0  [0.21040271373347424, 0.21620595267113918, 0.2...   \n",
       "1  [0.2173453383506822, 0.23335523527887608, 0.26...   \n",
       "2  [0.22201389305975539, 0.20771127165525194, 0.1...   \n",
       "3  [0.22040948417977452, 0.21119109099507888, 0.2...   \n",
       "4  [0.22221824932468665, 0.22270271723855334, 0.1...   \n",
       "\n",
       "                                         test_losses   exec_time  epochs  \\\n",
       "0  [0.018050740594853783, 0.01805050244017749, 0....  282.171350      64   \n",
       "1  [0.019781119110100383, 0.01977743409747047, 0....  273.898427      62   \n",
       "2  [0.019901184759765073, 0.01990536731084182, 0....  426.909626      97   \n",
       "3  [0.018448611511359028, 0.0184232709310751, 0.0...  356.494488      85   \n",
       "4  [0.017903659113515633, 0.01770939281151737, 0....  233.423172      52   \n",
       "\n",
       "   min_loss  unit_time  \n",
       "0  0.018075   4.408927  \n",
       "1  0.019772   4.417717  \n",
       "2  0.019976   4.401130  \n",
       "3  0.018496   4.194053  \n",
       "4  0.017754   4.488907  "
      ]
     },
     "execution_count": 311,
     "metadata": {},
     "output_type": "execute_result"
    }
   ],
   "source": [
    "df2 = pd.DataFrame(results2, columns=['alpha', 'denoising', 'train_losses', 'valid_losses', 'test_losses', 'exec_time'])\n",
    "df2['epochs'] = df2.valid_losses.apply(lambda x: len(x))\n",
    "df2['min_loss'] = df2.test_losses.apply(lambda x: np.min(x[10:]))\n",
    "df2['unit_time'] = df2.exec_time / df2.epochs\n",
    "df2"
   ]
  },
  {
   "cell_type": "code",
   "execution_count": null,
   "metadata": {
    "id": "3reCx-jEAa8E"
   },
   "outputs": [],
   "source": [
    "def create_table(df_in):\n",
    "    indf = df_in.copy()\n",
    "    indf = indf.sort_values(by='min_loss')\n",
    "    indf = indf[['alpha', 'epochs', 'unit_time', 'min_loss']]\n",
    "    indf['unit_time'] = np.round(indf['unit_time'], 3)\n",
    "    indf['min_loss'] = np.round(indf['min_loss'], 4)\n",
    "    return indf"
   ]
  },
  {
   "cell_type": "code",
   "execution_count": null,
   "metadata": {
    "colab": {
     "base_uri": "https://localhost:8080/",
     "height": 206
    },
    "id": "moxELiLfA3Vm",
    "outputId": "9555ac16-ad49-4431-923b-7411257d929d"
   },
   "outputs": [
    {
     "data": {
      "text/html": [
       "<div>\n",
       "<style scoped>\n",
       "    .dataframe tbody tr th:only-of-type {\n",
       "        vertical-align: middle;\n",
       "    }\n",
       "\n",
       "    .dataframe tbody tr th {\n",
       "        vertical-align: top;\n",
       "    }\n",
       "\n",
       "    .dataframe thead th {\n",
       "        text-align: right;\n",
       "    }\n",
       "</style>\n",
       "<table border=\"1\" class=\"dataframe\">\n",
       "  <thead>\n",
       "    <tr style=\"text-align: right;\">\n",
       "      <th></th>\n",
       "      <th>alpha</th>\n",
       "      <th>epochs</th>\n",
       "      <th>unit_time</th>\n",
       "      <th>min_loss</th>\n",
       "    </tr>\n",
       "  </thead>\n",
       "  <tbody>\n",
       "    <tr>\n",
       "      <th>2</th>\n",
       "      <td>0.10</td>\n",
       "      <td>91</td>\n",
       "      <td>3.230</td>\n",
       "      <td>0.0021</td>\n",
       "    </tr>\n",
       "    <tr>\n",
       "      <th>1</th>\n",
       "      <td>0.05</td>\n",
       "      <td>113</td>\n",
       "      <td>3.085</td>\n",
       "      <td>0.0048</td>\n",
       "    </tr>\n",
       "    <tr>\n",
       "      <th>0</th>\n",
       "      <td>0.01</td>\n",
       "      <td>45</td>\n",
       "      <td>3.397</td>\n",
       "      <td>0.0119</td>\n",
       "    </tr>\n",
       "    <tr>\n",
       "      <th>3</th>\n",
       "      <td>0.20</td>\n",
       "      <td>42</td>\n",
       "      <td>3.177</td>\n",
       "      <td>0.0128</td>\n",
       "    </tr>\n",
       "    <tr>\n",
       "      <th>4</th>\n",
       "      <td>1.00</td>\n",
       "      <td>47</td>\n",
       "      <td>3.266</td>\n",
       "      <td>0.0241</td>\n",
       "    </tr>\n",
       "  </tbody>\n",
       "</table>\n",
       "</div>"
      ],
      "text/plain": [
       "   alpha  epochs  unit_time  min_loss\n",
       "2   0.10      91      3.230    0.0021\n",
       "1   0.05     113      3.085    0.0048\n",
       "0   0.01      45      3.397    0.0119\n",
       "3   0.20      42      3.177    0.0128\n",
       "4   1.00      47      3.266    0.0241"
      ]
     },
     "execution_count": 331,
     "metadata": {},
     "output_type": "execute_result"
    }
   ],
   "source": [
    "create_table(df)"
   ]
  },
  {
   "cell_type": "code",
   "execution_count": null,
   "metadata": {
    "colab": {
     "base_uri": "https://localhost:8080/",
     "height": 206
    },
    "id": "u4rjasrHCWf9",
    "outputId": "84f87a07-6cf5-4622-d452-a68da72b452e"
   },
   "outputs": [
    {
     "data": {
      "text/html": [
       "<div>\n",
       "<style scoped>\n",
       "    .dataframe tbody tr th:only-of-type {\n",
       "        vertical-align: middle;\n",
       "    }\n",
       "\n",
       "    .dataframe tbody tr th {\n",
       "        vertical-align: top;\n",
       "    }\n",
       "\n",
       "    .dataframe thead th {\n",
       "        text-align: right;\n",
       "    }\n",
       "</style>\n",
       "<table border=\"1\" class=\"dataframe\">\n",
       "  <thead>\n",
       "    <tr style=\"text-align: right;\">\n",
       "      <th></th>\n",
       "      <th>alpha</th>\n",
       "      <th>epochs</th>\n",
       "      <th>unit_time</th>\n",
       "      <th>min_loss</th>\n",
       "    </tr>\n",
       "  </thead>\n",
       "  <tbody>\n",
       "    <tr>\n",
       "      <th>0</th>\n",
       "      <td>0.01</td>\n",
       "      <td>101</td>\n",
       "      <td>4.037</td>\n",
       "      <td>0.0123</td>\n",
       "    </tr>\n",
       "    <tr>\n",
       "      <th>4</th>\n",
       "      <td>1.00</td>\n",
       "      <td>115</td>\n",
       "      <td>4.165</td>\n",
       "      <td>0.0207</td>\n",
       "    </tr>\n",
       "    <tr>\n",
       "      <th>2</th>\n",
       "      <td>0.10</td>\n",
       "      <td>105</td>\n",
       "      <td>4.010</td>\n",
       "      <td>0.0294</td>\n",
       "    </tr>\n",
       "    <tr>\n",
       "      <th>3</th>\n",
       "      <td>0.20</td>\n",
       "      <td>87</td>\n",
       "      <td>4.090</td>\n",
       "      <td>0.0341</td>\n",
       "    </tr>\n",
       "    <tr>\n",
       "      <th>1</th>\n",
       "      <td>0.05</td>\n",
       "      <td>108</td>\n",
       "      <td>3.967</td>\n",
       "      <td>0.0381</td>\n",
       "    </tr>\n",
       "  </tbody>\n",
       "</table>\n",
       "</div>"
      ],
      "text/plain": [
       "   alpha  epochs  unit_time  min_loss\n",
       "0   0.01     101      4.037    0.0123\n",
       "4   1.00     115      4.165    0.0207\n",
       "2   0.10     105      4.010    0.0294\n",
       "3   0.20      87      4.090    0.0341\n",
       "1   0.05     108      3.967    0.0381"
      ]
     },
     "execution_count": 332,
     "metadata": {},
     "output_type": "execute_result"
    }
   ],
   "source": [
    "create_table(df0)"
   ]
  },
  {
   "cell_type": "code",
   "execution_count": null,
   "metadata": {
    "colab": {
     "base_uri": "https://localhost:8080/",
     "height": 458
    },
    "id": "5nNOvELT4lFU",
    "outputId": "d21578f1-f6c4-411f-c24e-0c917bfb34ef"
   },
   "outputs": [
    {
     "data": {
      "image/png": "[encoded data removed]",
      "text/plain": [
       "<Figure size 504x504 with 1 Axes>"
      ]
     },
     "metadata": {
      "needs_background": "light"
     },
     "output_type": "display_data"
    }
   ],
   "source": [
    "idx = 2\n",
    "utils.plot_loss(df0.iloc[idx].valid_losses, df0.iloc[idx].test_losses, start=0, end=None)"
   ]
  },
  {
   "cell_type": "code",
   "execution_count": null,
   "metadata": {
    "colab": {
     "base_uri": "https://localhost:8080/",
     "height": 458
    },
    "id": "UVmL9yJkFVQl",
    "outputId": "caabe6fd-c84b-4737-ed30-1432f783a7c3"
   },
   "outputs": [
    {
     "data": {
      "image/png": "[encoded data removed]",
      "text/plain": [
       "<Figure size 720x504 with 1 Axes>"
      ]
     },
     "metadata": {
      "needs_background": "light"
     },
     "output_type": "display_data"
    }
   ],
   "source": [
    "valid_lossesplot = df.iloc[1]['valid_losses']\n",
    "test_lossesplot = df.iloc[1]['test_losses']\n",
    "\n",
    "start = 0\n",
    "\n",
    "_, ax = plt.subplots(1,1,figsize=(10,7))\n",
    "\n",
    "x = np.arange(len(valid_lossesplot[start:]))+1\n",
    "\n",
    "ax.set_title('Loss over epochs')\n",
    "ax.set_xlabel('Epoch')\n",
    "ax.set_ylabel('Loss')\n",
    "\n",
    "colors = plt.cm.BrBG(np.linspace(0, 0.8, 2))\n",
    "\n",
    "ax.plot(x, valid_lossesplot[start:], label=r'Validation loss $\\hat{L}$', color=colors[0])\n",
    "ax.plot(x, test_lossesplot[start:], label=r'Test loss $L$', color=colors[1])\n",
    "\n",
    "ax.legend()\n",
    "plt.savefig('ae_loss')\n",
    "plt.show()"
   ]
  },
  {
   "cell_type": "code",
   "execution_count": null,
   "metadata": {
    "id": "U1Ye7nZn48SV"
   },
   "outputs": [],
   "source": [
    "loader_iter = iter(test_loader32)\n",
    "model = models[1][1]"
   ]
  },
  {
   "cell_type": "code",
   "execution_count": null,
   "metadata": {
    "colab": {
     "base_uri": "https://localhost:8080/",
     "height": 644
    },
    "id": "NsMJsZ7N4-8P",
    "outputId": "12a31549-d858-4a39-b714-c6e31077470c"
   },
   "outputs": [
    {
     "name": "stdout",
     "output_type": "stream",
     "text": [
      "label tensor([0.2344, 0.2344, 0.4219, 0.1562], dtype=torch.float64)\n",
      "prediction tensor([0.2298, 0.2314, 0.4140, 0.1503], dtype=torch.float64)\n"
     ]
    },
    {
     "data": {
      "text/plain": [
       "<matplotlib.patches.Circle at 0x22c92049910>"
      ]
     },
     "execution_count": 347,
     "metadata": {},
     "output_type": "execute_result"
    },
    {
     "data": {
      "image/png": "[encoded data removed]",
      "text/plain": [
       "<Figure size 720x720 with 4 Axes>"
      ]
     },
     "metadata": {
      "needs_background": "light"
     },
     "output_type": "display_data"
    }
   ],
   "source": [
    "x,y = next(loader_iter)\n",
    "with torch.no_grad():\n",
    "    l, x_hat, y_hat = model(x)\n",
    "    \n",
    "print('label', y[0])\n",
    "print('prediction', y_hat[0])\n",
    "    \n",
    "_, axs = plt.subplots(2,2, figsize=(10,10))\n",
    "axs[0,0].imshow(x[0][0], cmap='coolwarm')\n",
    "axs[1,0].imshow(x[0][-1], cmap='coolwarm')\n",
    "axs[0,1].imshow(x_hat[0][0], cmap='coolwarm')\n",
    "axs[1,1].imshow(x_hat[0][-1], cmap='coolwarm')\n",
    "\n",
    "n = x.shape[-1]\n",
    "\n",
    "_,y,z,d = y[0]\n",
    "axs[0,0].plot(z*n-.5, y*n-.5, 'go', ms = 6, mfc = 'g')\n",
    "c1 = plt.Circle((z*n-.5, y*n-.5), d*n/2, color='g', fill=False, lw=2)\n",
    "axs[0,0].add_patch(c1)\n",
    "\n",
    "_,y,z,d = y_hat[0]\n",
    "axs[0,1].plot(z*n-.5, y*n-.5, 'yo', ms = 6, mfc = 'y')\n",
    "c2 = plt.Circle((z*n-.5, y*n-.5), d*n/2, color='y', fill=False, lw=2)\n",
    "axs[0,1].add_patch(c2)"
   ]
  },
  {
   "cell_type": "code",
   "execution_count": null,
   "metadata": {
    "colab": {
     "base_uri": "https://localhost:8080/",
     "height": 319
    },
    "id": "eNAP7_tEDhlx",
    "outputId": "adeaf4da-023a-4dcd-da54-0ba48a136e60"
   },
   "outputs": [
    {
     "data": {
      "text/plain": [
       "<matplotlib.image.AxesImage at 0x22ca2287490>"
      ]
     },
     "execution_count": 348,
     "metadata": {},
     "output_type": "execute_result"
    },
    {
     "data": {
      "image/png": "[encoded data removed]",
      "text/plain": [
       "<Figure size 720x360 with 2 Axes>"
      ]
     },
     "metadata": {
      "needs_background": "light"
     },
     "output_type": "display_data"
    }
   ],
   "source": [
    "_, axs = plt.subplots(1,2, figsize=(10,5))\n",
    "axs[0].imshow(l[0][0], cmap='coolwarm')\n",
    "axs[1].imshow(l[0][1], cmap='coolwarm')"
   ]
  },
  {
   "cell_type": "code",
   "execution_count": null,
   "metadata": {
    "id": "FPJNUBu17-4P"
   },
   "outputs": [],
   "source": [
    "convnet_orig = torch.load('./models/convnet32_2.model')\n",
    "convnet_orig2 = torch.load('./models/convnet32_3.model')"
   ]
  },
  {
   "cell_type": "code",
   "execution_count": null,
   "metadata": {
    "colab": {
     "base_uri": "https://localhost:8080/"
    },
    "id": "-5e1gAxN4_eJ",
    "outputId": "daff3aad-40ed-489f-eaa6-9c11cdc06e72"
   },
   "outputs": [
    {
     "data": {
      "text/plain": [
       "0.03505374367751805"
      ]
     },
     "execution_count": 377,
     "metadata": {},
     "output_type": "execute_result"
    }
   ],
   "source": [
    "predictor = nn.Sequential(\n",
    "    model.encoder,\n",
    "    convnet_orig2\n",
    ")\n",
    "ev = utils.Evaluator(predictor, dataset=test_loader32.dataset.data)\n",
    "ev.calculate_loss()"
   ]
  },
  {
   "cell_type": "code",
   "execution_count": null,
   "metadata": {
    "colab": {
     "base_uri": "https://localhost:8080/"
    },
    "id": "AjHuM4mZ5OS0",
    "outputId": "0d577fdc-d5e5-4807-a6b7-0894669f4091"
   },
   "outputs": [
    {
     "data": {
      "text/plain": [
       "0.004869489739309137"
      ]
     },
     "execution_count": 378,
     "metadata": {},
     "output_type": "execute_result"
    }
   ],
   "source": [
    "test_ev = utils.Evaluator(predictor, dataset=test_data)\n",
    "test_ev.calculate_loss()"
   ]
  },
  {
   "cell_type": "code",
   "execution_count": null,
   "metadata": {
    "colab": {
     "base_uri": "https://localhost:8080/",
     "height": 462
    },
    "id": "UiXazQftLHm3",
    "outputId": "85396fdd-46e4-43ac-fd24-c89a36d82cc2"
   },
   "outputs": [
    {
     "name": "stdout",
     "output_type": "stream",
     "text": [
      "true: [0.265625 0.234375 0.6875   0.0625  ]\n",
      "prediction: [0.20891773 0.21039688 0.73694876 0.07210455]\n"
     ]
    },
    {
     "data": {
      "image/png": "[encoded data removed]",
      "text/plain": [
       "<Figure size 864x504 with 2 Axes>"
      ]
     },
     "metadata": {
      "needs_background": "light"
     },
     "output_type": "display_data"
    }
   ],
   "source": [
    "test_ev.plot_next()"
   ]
  },
  {
   "cell_type": "code",
   "execution_count": null,
   "metadata": {
    "colab": {
     "base_uri": "https://localhost:8080/"
    },
    "id": "9r9zRfrzEtWd",
    "outputId": "7c7c5001-e718-44e1-9be9-37153b2cd428"
   },
   "outputs": [
    {
     "data": {
      "text/plain": [
       "0.0013476770674266377"
      ]
     },
     "execution_count": 194,
     "metadata": {},
     "output_type": "execute_result"
    }
   ],
   "source": [
    "predictor2 = nn.Sequential(\n",
    "    model.encoder,\n",
    "    model.regressor\n",
    ")\n",
    "ev = utils.Evaluator(predictor2, dataset=test_loader32.dataset.data)\n",
    "ev.calculate_loss()"
   ]
  },
  {
   "cell_type": "code",
   "execution_count": null,
   "metadata": {
    "colab": {
     "base_uri": "https://localhost:8080/"
    },
    "id": "Xc6Ohr4KEzvy",
    "outputId": "fd0fa57c-ea3a-44b8-a5c2-a0c32e58e8c3"
   },
   "outputs": [
    {
     "data": {
      "text/plain": [
       "0.07625786034401716"
      ]
     },
     "execution_count": 195,
     "metadata": {},
     "output_type": "execute_result"
    }
   ],
   "source": [
    "test_ev = utils.Evaluator(predictor2, dataset=test_data)\n",
    "test_ev.calculate_loss()"
   ]
  },
  {
   "cell_type": "code",
   "execution_count": null,
   "metadata": {
    "colab": {
     "base_uri": "https://localhost:8080/"
    },
    "id": "6pUIrBRRm9h2",
    "outputId": "8df4c4bc-e610-472c-bc47-29108ca675b9"
   },
   "outputs": [
    {
     "data": {
      "text/plain": [
       "0.02325101620671195"
      ]
     },
     "execution_count": 262,
     "metadata": {},
     "output_type": "execute_result"
    }
   ],
   "source": [
    "test_predictor = nn.Sequential(\n",
    "    nn.AvgPool2d(kernel_size=2, stride=2),\n",
    "    convnet_orig2\n",
    ")\n",
    "\n",
    "test_ev2 = utils.Evaluator(test_predictor, dataset=test_data)\n",
    "test_ev2.calculate_loss()"
   ]
  },
  {
   "cell_type": "code",
   "execution_count": null,
   "metadata": {
    "id": "kjKC1XD8EpSP"
   },
   "outputs": [],
   "source": [
    "loader_iter32 = iter(test_loader32)\n",
    "loader_iter64 = iter(test_loader)"
   ]
  },
  {
   "cell_type": "code",
   "execution_count": null,
   "metadata": {
    "colab": {
     "base_uri": "https://localhost:8080/",
     "height": 308
    },
    "id": "QFqKCDiO7wtp",
    "outputId": "4cbfe425-257d-494b-d08e-2dbf1c6c9d1f"
   },
   "outputs": [
    {
     "data": {
      "text/plain": [
       "<matplotlib.image.AxesImage at 0x22ca6c05fd0>"
      ]
     },
     "execution_count": 359,
     "metadata": {},
     "output_type": "execute_result"
    },
    {
     "data": {
      "image/png": "[encoded data removed]",
      "text/plain": [
       "<Figure size 1440x360 with 4 Axes>"
      ]
     },
     "metadata": {
      "needs_background": "light"
     },
     "output_type": "display_data"
    }
   ],
   "source": [
    "downsample = nn.AvgPool2d(kernel_size=2, stride=2)\n",
    "\n",
    "x,y = next(loader_iter32)\n",
    "\n",
    "with torch.no_grad():\n",
    "    x_hat = model.encoder.blocks[0](x)\n",
    "    down = downsample(x)\n",
    "    res = x_hat-down\n",
    "    \n",
    "_, axs = plt.subplots(1,4, figsize=(20,5))\n",
    "axs[0].imshow(x[0][0], cmap='coolwarm')\n",
    "axs[1].imshow(x_hat[0][0], cmap='coolwarm')\n",
    "axs[2].imshow(down[0][0], cmap='coolwarm')\n",
    "axs[3].imshow(res[0][0], cmap='coolwarm')"
   ]
  },
  {
   "cell_type": "code",
   "execution_count": null,
   "metadata": {
    "colab": {
     "base_uri": "https://localhost:8080/"
    },
    "id": "RFA_hReNEp_F",
    "outputId": "3195d3da-5d30-4e95-c874-15d2f32f20f1"
   },
   "outputs": [
    {
     "data": {
      "text/plain": [
       "(tensor([0.5026, 0.5008, 0.4970, 0.4919, 0.4843, 0.4746, 0.4621, 0.4476, 0.4314,\n",
       "         0.4155, 0.4016, 0.3940, 0.3884, 0.3851, 0.3839, 0.3834],\n",
       "        dtype=torch.float64),\n",
       " tensor([0.4528, 0.4524, 0.4510, 0.4491, 0.4458, 0.4414, 0.4351, 0.4278, 0.4190,\n",
       "         0.4103, 0.4019, 0.3954, 0.3907, 0.3879, 0.3869, 0.3864],\n",
       "        dtype=torch.float64),\n",
       " tensor([ 0.0499,  0.0484,  0.0460,  0.0428,  0.0385,  0.0332,  0.0270,  0.0199,\n",
       "          0.0123,  0.0052, -0.0003, -0.0015, -0.0023, -0.0028, -0.0030, -0.0030],\n",
       "        dtype=torch.float64))"
      ]
     },
     "execution_count": 268,
     "metadata": {},
     "output_type": "execute_result"
    }
   ],
   "source": [
    "x_hat[0][0][-1],down[0][0][-1],res[0][0][-1]"
   ]
  },
  {
   "cell_type": "code",
   "execution_count": null,
   "metadata": {
    "colab": {
     "base_uri": "https://localhost:8080/",
     "height": 310
    },
    "id": "583za-izFLb-",
    "outputId": "0b9cedf8-479b-47d1-aa91-ef38b65529db"
   },
   "outputs": [
    {
     "data": {
      "text/plain": [
       "<matplotlib.image.AxesImage at 0x22caacdaa90>"
      ]
     },
     "execution_count": 371,
     "metadata": {},
     "output_type": "execute_result"
    },
    {
     "data": {
      "image/png": "[encoded data removed]",
      "text/plain": [
       "<Figure size 1440x360 with 4 Axes>"
      ]
     },
     "metadata": {
      "needs_background": "light"
     },
     "output_type": "display_data"
    }
   ],
   "source": [
    "downsample = nn.AvgPool2d(kernel_size=2, stride=2)\n",
    "\n",
    "x,y = next(loader_iter64)\n",
    "\n",
    "with torch.no_grad():\n",
    "    x_hat = model.encoder.blocks[0](x)\n",
    "    down = downsample(x)\n",
    "    res = x_hat-down\n",
    "    \n",
    "_, axs = plt.subplots(1,4, figsize=(20,5))\n",
    "axs[0].imshow(x[0][0], cmap='coolwarm')\n",
    "axs[1].imshow(x_hat[0][0], cmap='coolwarm')\n",
    "axs[2].imshow(down[0][0], cmap='coolwarm')\n",
    "axs[3].imshow(res[0][0], cmap='coolwarm')"
   ]
  },
  {
   "cell_type": "code",
   "execution_count": null,
   "metadata": {
    "colab": {
     "base_uri": "https://localhost:8080/"
    },
    "id": "7T0iz16JpEug",
    "outputId": "5de1553b-a212-45fd-8e93-7268e0870091"
   },
   "outputs": [
    {
     "data": {
      "text/plain": [
       "(tensor([ 0.4311,  0.4274,  0.4181,  0.4036,  0.3814,  0.3492,  0.3029,  0.2396,\n",
       "          0.1594,  0.0517, -0.0912, -0.2687, -0.4775, -0.7054, -0.9193, -1.0755,\n",
       "         -1.1330, -1.0738, -0.9157, -0.7010, -0.4729, -0.2639, -0.0885,  0.0509,\n",
       "          0.1587,  0.2387,  0.3034,  0.3490,  0.3799,  0.4005,  0.4129,  0.4171],\n",
       "        dtype=torch.float64),\n",
       " tensor([ 0.3917,  0.3893,  0.3823,  0.3713,  0.3543,  0.3290,  0.2916,  0.2378,\n",
       "          0.1620,  0.0579, -0.0808, -0.2567, -0.4666, -0.6951, -0.9090, -1.0654,\n",
       "         -1.1235, -1.0654, -0.9090, -0.6951, -0.4666, -0.2567, -0.0808,  0.0576,\n",
       "          0.1617,  0.2372,  0.2907,  0.3278,  0.3528,  0.3692,  0.3789,  0.3826],\n",
       "        dtype=torch.float64),\n",
       " tensor([ 0.0394,  0.0382,  0.0358,  0.0323,  0.0271,  0.0201,  0.0113,  0.0018,\n",
       "         -0.0026, -0.0063, -0.0104, -0.0120, -0.0109, -0.0103, -0.0103, -0.0101,\n",
       "         -0.0095, -0.0084, -0.0067, -0.0059, -0.0063, -0.0073, -0.0077, -0.0067,\n",
       "         -0.0030,  0.0015,  0.0127,  0.0212,  0.0272,  0.0313,  0.0339,  0.0345],\n",
       "        dtype=torch.float64))"
      ]
     },
     "execution_count": 372,
     "metadata": {},
     "output_type": "execute_result"
    }
   ],
   "source": [
    "x_hat[0][0][-1],down[0][0][-1],res[0][0][-1]"
   ]
  },
  {
   "cell_type": "code",
   "execution_count": null,
   "metadata": {
    "id": "nKmVUE5vpJJY"
   },
   "outputs": [],
   "source": []
  }
 ],
 "metadata": {
  "colab": {
   "provenance": []
  },
  "kernelspec": {
   "display_name": "Python 3",
   "language": "python",
   "name": "python3"
  },
  "language_info": {
   "codemirror_mode": {
    "name": "ipython",
    "version": 3
   },
   "file_extension": ".py",
   "mimetype": "text/x-python",
   "name": "python",
   "nbconvert_exporter": "python",
   "pygments_lexer": "ipython3",
   "version": "3.8.5"
  }
 },
 "nbformat": 4,
 "nbformat_minor": 1
}
