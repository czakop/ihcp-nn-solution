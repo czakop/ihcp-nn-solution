{
 "cells": [
  {
   "cell_type": "code",
   "execution_count": null,
   "metadata": {
    "id": "gHwodsLKY0Wk"
   },
   "outputs": [],
   "source": [
    "import torch\n",
    "from torch import nn\n",
    "from torchsummary import summary\n",
    "import hc_utils as utils\n",
    "import numpy as np\n",
    "import pandas as pd\n",
    "import matplotlib.pyplot as plt\n",
    "from tqdm import tqdm\n",
    "import copy\n",
    "import time"
   ]
  },
  {
   "cell_type": "code",
   "execution_count": null,
   "metadata": {
    "colab": {
     "base_uri": "https://localhost:8080/"
    },
    "id": "UfPK1I9jZLpg",
    "outputId": "a566c480-a2d7-4026-d80f-841294c42928"
   },
   "outputs": [
    {
     "data": {
      "text/plain": [
       "'cpu'"
      ]
     },
     "execution_count": 4,
     "metadata": {},
     "output_type": "execute_result"
    }
   ],
   "source": [
    "device = 'cuda' if torch.cuda.is_available() else 'cpu'\n",
    "device"
   ]
  },
  {
   "cell_type": "code",
   "execution_count": null,
   "metadata": {
    "id": "PWa1j6SaZOf0"
   },
   "outputs": [],
   "source": [
    "data = utils.load_data('./data/heat_cond_data_n32_new.pickle', normalize=True)\n",
    "test_data = utils.load_data('./data/heat_cond_data_n64.pickle', normalize=True)"
   ]
  },
  {
   "cell_type": "code",
   "execution_count": null,
   "metadata": {
    "id": "_vqwjPc0aPvj"
   },
   "outputs": [],
   "source": [
    "train_loader, test_loader = utils.get_data_loaders(data, test_size=0.5, batch_size=128, training_noise=None)"
   ]
  },
  {
   "cell_type": "code",
   "execution_count": null,
   "metadata": {
    "colab": {
     "base_uri": "https://localhost:8080/"
    },
    "id": "o4h9rj7Bnzmv",
    "outputId": "7a7a32a5-4354-4f95-fcad-fe61bda81b6b"
   },
   "outputs": [
    {
     "data": {
      "text/plain": [
       "(1024, 1024)"
      ]
     },
     "execution_count": 37,
     "metadata": {},
     "output_type": "execute_result"
    }
   ],
   "source": [
    "len(train_loader.dataset), len(test_loader.dataset)"
   ]
  },
  {
   "cell_type": "markdown",
   "metadata": {},
   "source": [
    "# MLP approach"
   ]
  },
  {
   "cell_type": "code",
   "execution_count": null,
   "metadata": {
    "id": "Em8zbsMgbQr1"
   },
   "outputs": [],
   "source": [
    "class FCN(nn.Module):\n",
    "    def __init__(self, in_features=32*32*2, out_features=4, layers_sizes=[256,256], bn=False, af=nn.ReLU(), transform_output=False):\n",
    "        super().__init__()\n",
    "\n",
    "        self.layers = nn.ModuleList()\n",
    "\n",
    "        for l in layers_sizes:\n",
    "            self.layers.append(nn.Linear(in_features=in_features, out_features=l))\n",
    "            in_features = l\n",
    "            if bn:\n",
    "                self.layers.append(nn.BatchNorm1d(num_features = in_features))\n",
    "\n",
    "            self.layers.append(af)\n",
    "\n",
    "        self.layers.append(nn.Linear(in_features=in_features, out_features=out_features))\n",
    "        \n",
    "        self.transform_output = transform_output\n",
    "\n",
    "    def forward(self, x):\n",
    "        y = torch.flatten(x, start_dim=1)\n",
    "\n",
    "        for layer in self.layers:\n",
    "            y = layer(y)\n",
    "\n",
    "        if self.transform_output:\n",
    "            y = nn.functional.sigmoid(y)\n",
    "\n",
    "        return y"
   ]
  },
  {
   "cell_type": "code",
   "execution_count": null,
   "metadata": {
    "colab": {
     "base_uri": "https://localhost:8080/"
    },
    "id": "ZcCqRx6oeRo-",
    "outputId": "c9fe067e-ea53-42bf-be6a-5a59fe3189b9"
   },
   "outputs": [
    {
     "name": "stdout",
     "output_type": "stream",
     "text": [
      "----------------------------------------------------------------\n",
      "        Layer (type)               Output Shape         Param #\n",
      "================================================================\n",
      "            Linear-1                  [-1, 256]         524,544\n",
      "       BatchNorm1d-2                  [-1, 256]             512\n",
      "              ReLU-3                  [-1, 256]               0\n",
      "            Linear-4                  [-1, 256]          65,792\n",
      "       BatchNorm1d-5                  [-1, 256]             512\n",
      "              ReLU-6                  [-1, 256]               0\n",
      "            Linear-7                    [-1, 4]           1,028\n",
      "================================================================\n",
      "Total params: 592,388\n",
      "Trainable params: 592,388\n",
      "Non-trainable params: 0\n",
      "----------------------------------------------------------------\n",
      "Input size (MB): 0.01\n",
      "Forward/backward pass size (MB): 0.01\n",
      "Params size (MB): 2.26\n",
      "Estimated Total Size (MB): 2.28\n",
      "----------------------------------------------------------------\n"
     ]
    }
   ],
   "source": [
    "summary(FCN(bn=True), (2,32,32))"
   ]
  },
  {
   "cell_type": "code",
   "execution_count": null,
   "metadata": {
    "id": "jxsKQvIxebkL"
   },
   "outputs": [],
   "source": [
    "criterion = nn.MSELoss()\n",
    "fcn = FCN(layers_sizes=[128,128,128], bn=False, af=nn.ReLU()).double()\n",
    "sgd = torch.optim.SGD(fcn.parameters(), lr=0.01, momentum=0.9, weight_decay=1e-3)"
   ]
  },
  {
   "cell_type": "code",
   "execution_count": null,
   "metadata": {
    "colab": {
     "base_uri": "https://localhost:8080/"
    },
    "id": "gxpn7jQHe-s_",
    "outputId": "6942d58a-9e41-44cf-8b7d-0ca4802d49c8"
   },
   "outputs": [
    {
     "name": "stderr",
     "output_type": "stream",
     "text": [
      "Epochs:  49%|██████████████████████████████████▋                                    | 734/1500 [00:56<00:58, 13.04it/s]\n"
     ]
    }
   ],
   "source": [
    "n_epoch = 1500\n",
    "fcn = FCN(layers_sizes=[128,128], bn=False, af=nn.ReLU()).double()\n",
    "sgd = torch.optim.SGD(fcn.parameters(), lr=0.01, momentum=0.9, weight_decay=1e-3)\n",
    "train_losses, valid_losses, _ = utils.train_model(fcn, train_loader, test_loader, criterion, sgd, device, n_epoch, early_stop=True, patience=30)"
   ]
  },
  {
   "cell_type": "code",
   "execution_count": null,
   "metadata": {
    "colab": {
     "base_uri": "https://localhost:8080/",
     "height": 458
    },
    "id": "Uy6UaPePfEOE",
    "outputId": "96a1ceb2-aa63-4741-f1de-505af9548c7a"
   },
   "outputs": [
    {
     "data": {
      "image/png": "[encoded data removed]",
      "text/plain": [
       "<Figure size 504x504 with 1 Axes>"
      ]
     },
     "metadata": {
      "needs_background": "light"
     },
     "output_type": "display_data"
    }
   ],
   "source": [
    "utils.plot_loss(train_losses, valid_losses, start=2, end=None, filename='mlp_relu.png')"
   ]
  },
  {
   "cell_type": "code",
   "execution_count": null,
   "metadata": {
    "colab": {
     "base_uri": "https://localhost:8080/"
    },
    "id": "UiWUyUfFfVrF",
    "outputId": "f12b28ba-fd36-4455-aba7-38327fda56ce"
   },
   "outputs": [
    {
     "data": {
      "text/plain": [
       "0.006379065960298786"
      ]
     },
     "execution_count": 18,
     "metadata": {},
     "output_type": "execute_result"
    }
   ],
   "source": [
    "ev = utils.Evaluator(fcn, dataset=test_loader.dataset.data)\n",
    "ev.calculate_loss()"
   ]
  },
  {
   "cell_type": "code",
   "execution_count": null,
   "metadata": {
    "colab": {
     "base_uri": "https://localhost:8080/"
    },
    "id": "xnYkW-iKPcN5",
    "outputId": "03be600e-a0ee-4286-b464-17bbedf0c9f7"
   },
   "outputs": [
    {
     "data": {
      "text/plain": [
       "0.009285282272430013"
      ]
     },
     "execution_count": 19,
     "metadata": {},
     "output_type": "execute_result"
    }
   ],
   "source": [
    "test_fcn = nn.Sequential(\n",
    "    nn.AvgPool2d(kernel_size=2, stride=2),\n",
    "    fcn\n",
    ")\n",
    "\n",
    "test_ev2 = utils.Evaluator(test_fcn, dataset=test_data)\n",
    "test_ev2.calculate_loss()"
   ]
  },
  {
   "cell_type": "code",
   "execution_count": null,
   "metadata": {
    "colab": {
     "base_uri": "https://localhost:8080/",
     "height": 462
    },
    "id": "APcP7Pmqfpej",
    "outputId": "8df6b2c6-2b1e-47d9-98c5-f325e5203c6b"
   },
   "outputs": [
    {
     "name": "stdout",
     "output_type": "stream",
     "text": [
      "true: [0.453125 0.359375 0.765625 0.09375 ]\n",
      "prediction: [0.3772533  0.39306961 0.78724838 0.10495107]\n"
     ]
    },
    {
     "data": {
      "image/png": "[encoded data removed]",
      "text/plain": [
       "<Figure size 864x504 with 2 Axes>"
      ]
     },
     "metadata": {
      "needs_background": "light"
     },
     "output_type": "display_data"
    }
   ],
   "source": [
    "ev.plot_next()"
   ]
  },
  {
   "cell_type": "code",
   "execution_count": null,
   "metadata": {
    "id": "oEZNQoPcrVuT"
   },
   "outputs": [],
   "source": [
    "afs = [('Tanh',nn.Tanh()), ('Sigmoid',nn.Sigmoid()), ('ReLU',nn.ReLU()), ('LReLU', nn.LeakyReLU(negative_slope=0.2))]\n",
    "sigmoids = [False, True]\n",
    "bns = [False, True]"
   ]
  },
  {
   "cell_type": "code",
   "execution_count": null,
   "metadata": {
    "colab": {
     "base_uri": "https://localhost:8080/"
    },
    "id": "J1X8jsKsyYeZ",
    "outputId": "ed4cbbcc-ba90-4667-833d-7d876e51c2b9"
   },
   "outputs": [
    {
     "name": "stderr",
     "output_type": "stream",
     "text": [
      "Epochs:  43%|██████████████████████████████▍                                        | 643/1500 [01:11<01:35,  9.01it/s]\n",
      "Epochs:  44%|███████████████████████████████▎                                       | 661/1500 [01:19<01:40,  8.35it/s]\n",
      "Epochs:  35%|█████████████████████████▏                                             | 532/1500 [01:01<01:52,  8.63it/s]\n",
      "Epochs:  36%|█████████████████████████▊                                             | 545/1500 [01:08<02:00,  7.92it/s]\n"
     ]
    }
   ],
   "source": [
    "n_epoch = 1500\n",
    "results = []\n",
    "for sigmoid in sigmoids:\n",
    "    for bn in bns:\n",
    "        for af_name, af in afs:\n",
    "            criterion = nn.MSELoss()\n",
    "            fcn = FCN(layers_sizes=[256,256], bn=bn, af=af, transform_output=sigmoid).double()\n",
    "            sgd = torch.optim.SGD(fcn.parameters(), lr=0.01, momentum=0.9, weight_decay=1e-3)\n",
    "\n",
    "            start_time = time.time()\n",
    "            train_losses, valid_losses, _ = utils.train_model(fcn, train_loader, test_loader, criterion, sgd, device, n_epoch, early_stop=True, patience=20)\n",
    "            end_time = time.time()\n",
    "\n",
    "            results.append((af_name, bn, sigmoid, train_losses, valid_losses, end_time-start_time, sum(p.numel() for p in fcn.parameters())))"
   ]
  },
  {
   "cell_type": "code",
   "execution_count": null,
   "metadata": {
    "colab": {
     "base_uri": "https://localhost:8080/",
     "height": 551
    },
    "id": "_c72QqKDuA4g",
    "outputId": "b905e274-48ea-4015-8e0c-d736c855597e"
   },
   "outputs": [
    {
     "data": {
      "text/html": [
       "<div>\n",
       "<style scoped>\n",
       "    .dataframe tbody tr th:only-of-type {\n",
       "        vertical-align: middle;\n",
       "    }\n",
       "\n",
       "    .dataframe tbody tr th {\n",
       "        vertical-align: top;\n",
       "    }\n",
       "\n",
       "    .dataframe thead th {\n",
       "        text-align: right;\n",
       "    }\n",
       "</style>\n",
       "<table border=\"1\" class=\"dataframe\">\n",
       "  <thead>\n",
       "    <tr style=\"text-align: right;\">\n",
       "      <th></th>\n",
       "      <th>af</th>\n",
       "      <th>bn</th>\n",
       "      <th>sigmoid</th>\n",
       "      <th>train_losses</th>\n",
       "      <th>valid_losses</th>\n",
       "      <th>exec_time</th>\n",
       "      <th>n_params</th>\n",
       "      <th>epochs</th>\n",
       "      <th>min_loss</th>\n",
       "      <th>unit_time</th>\n",
       "    </tr>\n",
       "  </thead>\n",
       "  <tbody>\n",
       "    <tr>\n",
       "      <th>0</th>\n",
       "      <td>Tanh</td>\n",
       "      <td>False</td>\n",
       "      <td>False</td>\n",
       "      <td>[0.15851572008639506, 0.048931482063728556, 0....</td>\n",
       "      <td>[0.07123767228496797, 0.03381293691839081, 0.0...</td>\n",
       "      <td>73.480021</td>\n",
       "      <td>591364</td>\n",
       "      <td>660</td>\n",
       "      <td>0.010299</td>\n",
       "      <td>0.111333</td>\n",
       "    </tr>\n",
       "    <tr>\n",
       "      <th>1</th>\n",
       "      <td>Sigmoid</td>\n",
       "      <td>False</td>\n",
       "      <td>False</td>\n",
       "      <td>[0.1587862174334466, 0.07429598229519815, 0.05...</td>\n",
       "      <td>[0.0738679244407181, 0.05113509226004601, 0.05...</td>\n",
       "      <td>70.489054</td>\n",
       "      <td>591364</td>\n",
       "      <td>594</td>\n",
       "      <td>0.020391</td>\n",
       "      <td>0.118668</td>\n",
       "    </tr>\n",
       "    <tr>\n",
       "      <th>2</th>\n",
       "      <td>ReLU</td>\n",
       "      <td>False</td>\n",
       "      <td>False</td>\n",
       "      <td>[0.11800287630251394, 0.05004516211511992, 0.0...</td>\n",
       "      <td>[0.07551834453267467, 0.04084133777894967, 0.0...</td>\n",
       "      <td>55.002912</td>\n",
       "      <td>591364</td>\n",
       "      <td>487</td>\n",
       "      <td>0.006373</td>\n",
       "      <td>0.112942</td>\n",
       "    </tr>\n",
       "    <tr>\n",
       "      <th>3</th>\n",
       "      <td>LReLU</td>\n",
       "      <td>False</td>\n",
       "      <td>False</td>\n",
       "      <td>[0.14883118901204687, 0.05177680258991368, 0.0...</td>\n",
       "      <td>[0.05535396238100122, 0.033776031151629506, 0....</td>\n",
       "      <td>81.240329</td>\n",
       "      <td>591364</td>\n",
       "      <td>674</td>\n",
       "      <td>0.006695</td>\n",
       "      <td>0.120535</td>\n",
       "    </tr>\n",
       "    <tr>\n",
       "      <th>4</th>\n",
       "      <td>Tanh</td>\n",
       "      <td>True</td>\n",
       "      <td>False</td>\n",
       "      <td>[0.17807506421330077, 0.047509034210424454, 0....</td>\n",
       "      <td>[0.09665348233960591, 0.0372019737171282, 0.03...</td>\n",
       "      <td>19.508477</td>\n",
       "      <td>592388</td>\n",
       "      <td>165</td>\n",
       "      <td>0.014742</td>\n",
       "      <td>0.118233</td>\n",
       "    </tr>\n",
       "    <tr>\n",
       "      <th>5</th>\n",
       "      <td>Sigmoid</td>\n",
       "      <td>True</td>\n",
       "      <td>False</td>\n",
       "      <td>[0.25624024827078157, 0.0826698229468406, 0.04...</td>\n",
       "      <td>[0.06617046931415729, 0.04607970092765363, 0.0...</td>\n",
       "      <td>17.007585</td>\n",
       "      <td>592388</td>\n",
       "      <td>138</td>\n",
       "      <td>0.020106</td>\n",
       "      <td>0.123243</td>\n",
       "    </tr>\n",
       "    <tr>\n",
       "      <th>6</th>\n",
       "      <td>ReLU</td>\n",
       "      <td>True</td>\n",
       "      <td>False</td>\n",
       "      <td>[0.11848902526290948, 0.047271977276959566, 0....</td>\n",
       "      <td>[0.08290635516777987, 0.04091168273397848, 0.0...</td>\n",
       "      <td>22.876817</td>\n",
       "      <td>592388</td>\n",
       "      <td>178</td>\n",
       "      <td>0.011026</td>\n",
       "      <td>0.128521</td>\n",
       "    </tr>\n",
       "    <tr>\n",
       "      <th>7</th>\n",
       "      <td>LReLU</td>\n",
       "      <td>True</td>\n",
       "      <td>False</td>\n",
       "      <td>[0.10451917346506395, 0.04003997772300682, 0.0...</td>\n",
       "      <td>[0.06620864183649675, 0.03273725414194736, 0.0...</td>\n",
       "      <td>11.504328</td>\n",
       "      <td>592388</td>\n",
       "      <td>84</td>\n",
       "      <td>0.013089</td>\n",
       "      <td>0.136956</td>\n",
       "    </tr>\n",
       "    <tr>\n",
       "      <th>8</th>\n",
       "      <td>Tanh</td>\n",
       "      <td>False</td>\n",
       "      <td>True</td>\n",
       "      <td>[0.08896515391224254, 0.07192619334646846, 0.0...</td>\n",
       "      <td>[0.08024298036604825, 0.06575853465449957, 0.0...</td>\n",
       "      <td>171.899068</td>\n",
       "      <td>591364</td>\n",
       "      <td>1500</td>\n",
       "      <td>0.011574</td>\n",
       "      <td>0.114599</td>\n",
       "    </tr>\n",
       "    <tr>\n",
       "      <th>9</th>\n",
       "      <td>Sigmoid</td>\n",
       "      <td>False</td>\n",
       "      <td>True</td>\n",
       "      <td>[0.0704804656777384, 0.04915063460585123, 0.04...</td>\n",
       "      <td>[0.05184866179764293, 0.04940116193227932, 0.0...</td>\n",
       "      <td>99.763792</td>\n",
       "      <td>591364</td>\n",
       "      <td>788</td>\n",
       "      <td>0.029077</td>\n",
       "      <td>0.126604</td>\n",
       "    </tr>\n",
       "    <tr>\n",
       "      <th>10</th>\n",
       "      <td>ReLU</td>\n",
       "      <td>False</td>\n",
       "      <td>True</td>\n",
       "      <td>[0.0864867240425252, 0.07022686967966311, 0.05...</td>\n",
       "      <td>[0.07840659549999782, 0.06175358758306809, 0.0...</td>\n",
       "      <td>174.597352</td>\n",
       "      <td>591364</td>\n",
       "      <td>1500</td>\n",
       "      <td>0.007985</td>\n",
       "      <td>0.116398</td>\n",
       "    </tr>\n",
       "    <tr>\n",
       "      <th>11</th>\n",
       "      <td>LReLU</td>\n",
       "      <td>False</td>\n",
       "      <td>True</td>\n",
       "      <td>[0.08438688269917548, 0.06820968295286295, 0.0...</td>\n",
       "      <td>[0.07666477126741608, 0.060564401430141426, 0....</td>\n",
       "      <td>184.658080</td>\n",
       "      <td>591364</td>\n",
       "      <td>1500</td>\n",
       "      <td>0.010549</td>\n",
       "      <td>0.123105</td>\n",
       "    </tr>\n",
       "    <tr>\n",
       "      <th>12</th>\n",
       "      <td>Tanh</td>\n",
       "      <td>True</td>\n",
       "      <td>True</td>\n",
       "      <td>[0.07263829418199201, 0.054073302336222005, 0....</td>\n",
       "      <td>[0.06826287153886912, 0.054925900655885075, 0....</td>\n",
       "      <td>22.136066</td>\n",
       "      <td>592388</td>\n",
       "      <td>185</td>\n",
       "      <td>0.015682</td>\n",
       "      <td>0.119654</td>\n",
       "    </tr>\n",
       "    <tr>\n",
       "      <th>13</th>\n",
       "      <td>Sigmoid</td>\n",
       "      <td>True</td>\n",
       "      <td>True</td>\n",
       "      <td>[0.05918251599751945, 0.03730165453251103, 0.0...</td>\n",
       "      <td>[0.050227197995921825, 0.04252545186408733, 0....</td>\n",
       "      <td>24.996936</td>\n",
       "      <td>592388</td>\n",
       "      <td>194</td>\n",
       "      <td>0.019833</td>\n",
       "      <td>0.128850</td>\n",
       "    </tr>\n",
       "    <tr>\n",
       "      <th>14</th>\n",
       "      <td>ReLU</td>\n",
       "      <td>True</td>\n",
       "      <td>True</td>\n",
       "      <td>[0.07817454375013766, 0.036671950759649664, 0....</td>\n",
       "      <td>[0.0629876732012775, 0.03513356174479933, 0.02...</td>\n",
       "      <td>19.246790</td>\n",
       "      <td>592388</td>\n",
       "      <td>139</td>\n",
       "      <td>0.010968</td>\n",
       "      <td>0.138466</td>\n",
       "    </tr>\n",
       "    <tr>\n",
       "      <th>15</th>\n",
       "      <td>LReLU</td>\n",
       "      <td>True</td>\n",
       "      <td>True</td>\n",
       "      <td>[0.07428661130173707, 0.04027980429591111, 0.0...</td>\n",
       "      <td>[0.06423371434340935, 0.03849840415328214, 0.0...</td>\n",
       "      <td>23.120966</td>\n",
       "      <td>592388</td>\n",
       "      <td>167</td>\n",
       "      <td>0.011442</td>\n",
       "      <td>0.138449</td>\n",
       "    </tr>\n",
       "  </tbody>\n",
       "</table>\n",
       "</div>"
      ],
      "text/plain": [
       "         af     bn  sigmoid  \\\n",
       "0      Tanh  False    False   \n",
       "1   Sigmoid  False    False   \n",
       "2      ReLU  False    False   \n",
       "3     LReLU  False    False   \n",
       "4      Tanh   True    False   \n",
       "5   Sigmoid   True    False   \n",
       "6      ReLU   True    False   \n",
       "7     LReLU   True    False   \n",
       "8      Tanh  False     True   \n",
       "9   Sigmoid  False     True   \n",
       "10     ReLU  False     True   \n",
       "11    LReLU  False     True   \n",
       "12     Tanh   True     True   \n",
       "13  Sigmoid   True     True   \n",
       "14     ReLU   True     True   \n",
       "15    LReLU   True     True   \n",
       "\n",
       "                                         train_losses  \\\n",
       "0   [0.15851572008639506, 0.048931482063728556, 0....   \n",
       "1   [0.1587862174334466, 0.07429598229519815, 0.05...   \n",
       "2   [0.11800287630251394, 0.05004516211511992, 0.0...   \n",
       "3   [0.14883118901204687, 0.05177680258991368, 0.0...   \n",
       "4   [0.17807506421330077, 0.047509034210424454, 0....   \n",
       "5   [0.25624024827078157, 0.0826698229468406, 0.04...   \n",
       "6   [0.11848902526290948, 0.047271977276959566, 0....   \n",
       "7   [0.10451917346506395, 0.04003997772300682, 0.0...   \n",
       "8   [0.08896515391224254, 0.07192619334646846, 0.0...   \n",
       "9   [0.0704804656777384, 0.04915063460585123, 0.04...   \n",
       "10  [0.0864867240425252, 0.07022686967966311, 0.05...   \n",
       "11  [0.08438688269917548, 0.06820968295286295, 0.0...   \n",
       "12  [0.07263829418199201, 0.054073302336222005, 0....   \n",
       "13  [0.05918251599751945, 0.03730165453251103, 0.0...   \n",
       "14  [0.07817454375013766, 0.036671950759649664, 0....   \n",
       "15  [0.07428661130173707, 0.04027980429591111, 0.0...   \n",
       "\n",
       "                                         valid_losses   exec_time  n_params  \\\n",
       "0   [0.07123767228496797, 0.03381293691839081, 0.0...   73.480021    591364   \n",
       "1   [0.0738679244407181, 0.05113509226004601, 0.05...   70.489054    591364   \n",
       "2   [0.07551834453267467, 0.04084133777894967, 0.0...   55.002912    591364   \n",
       "3   [0.05535396238100122, 0.033776031151629506, 0....   81.240329    591364   \n",
       "4   [0.09665348233960591, 0.0372019737171282, 0.03...   19.508477    592388   \n",
       "5   [0.06617046931415729, 0.04607970092765363, 0.0...   17.007585    592388   \n",
       "6   [0.08290635516777987, 0.04091168273397848, 0.0...   22.876817    592388   \n",
       "7   [0.06620864183649675, 0.03273725414194736, 0.0...   11.504328    592388   \n",
       "8   [0.08024298036604825, 0.06575853465449957, 0.0...  171.899068    591364   \n",
       "9   [0.05184866179764293, 0.04940116193227932, 0.0...   99.763792    591364   \n",
       "10  [0.07840659549999782, 0.06175358758306809, 0.0...  174.597352    591364   \n",
       "11  [0.07666477126741608, 0.060564401430141426, 0....  184.658080    591364   \n",
       "12  [0.06826287153886912, 0.054925900655885075, 0....   22.136066    592388   \n",
       "13  [0.050227197995921825, 0.04252545186408733, 0....   24.996936    592388   \n",
       "14  [0.0629876732012775, 0.03513356174479933, 0.02...   19.246790    592388   \n",
       "15  [0.06423371434340935, 0.03849840415328214, 0.0...   23.120966    592388   \n",
       "\n",
       "    epochs  min_loss  unit_time  \n",
       "0      660  0.010299   0.111333  \n",
       "1      594  0.020391   0.118668  \n",
       "2      487  0.006373   0.112942  \n",
       "3      674  0.006695   0.120535  \n",
       "4      165  0.014742   0.118233  \n",
       "5      138  0.020106   0.123243  \n",
       "6      178  0.011026   0.128521  \n",
       "7       84  0.013089   0.136956  \n",
       "8     1500  0.011574   0.114599  \n",
       "9      788  0.029077   0.126604  \n",
       "10    1500  0.007985   0.116398  \n",
       "11    1500  0.010549   0.123105  \n",
       "12     185  0.015682   0.119654  \n",
       "13     194  0.019833   0.128850  \n",
       "14     139  0.010968   0.138466  \n",
       "15     167  0.011442   0.138449  "
      ]
     },
     "execution_count": 152,
     "metadata": {},
     "output_type": "execute_result"
    }
   ],
   "source": [
    "df = pd.DataFrame(results, columns=['af', 'bn', 'sigmoid', 'train_losses', 'valid_losses', 'exec_time', 'n_params'])\n",
    "df['epochs'] = df.valid_losses.apply(lambda x: len(x))\n",
    "df['min_loss'] = df.valid_losses.apply(lambda x: np.min(x))\n",
    "df['unit_time'] = df.exec_time / df.epochs\n",
    "df"
   ]
  },
  {
   "cell_type": "code",
   "execution_count": null,
   "metadata": {
    "colab": {
     "base_uri": "https://localhost:8080/",
     "height": 300
    },
    "id": "LQhwuxQlDO3T",
    "outputId": "04b7e092-662f-42de-8fb7-9635b525f1b9"
   },
   "outputs": [
    {
     "data": {
      "text/html": [
       "<div>\n",
       "<style scoped>\n",
       "    .dataframe tbody tr th:only-of-type {\n",
       "        vertical-align: middle;\n",
       "    }\n",
       "\n",
       "    .dataframe tbody tr th {\n",
       "        vertical-align: top;\n",
       "    }\n",
       "\n",
       "    .dataframe thead th {\n",
       "        text-align: right;\n",
       "    }\n",
       "</style>\n",
       "<table border=\"1\" class=\"dataframe\">\n",
       "  <thead>\n",
       "    <tr style=\"text-align: right;\">\n",
       "      <th></th>\n",
       "      <th>af</th>\n",
       "      <th>bn</th>\n",
       "      <th>sigmoid</th>\n",
       "      <th>train_losses</th>\n",
       "      <th>valid_losses</th>\n",
       "      <th>exec_time</th>\n",
       "      <th>n_params</th>\n",
       "      <th>epochs</th>\n",
       "      <th>min_loss</th>\n",
       "      <th>unit_time</th>\n",
       "    </tr>\n",
       "  </thead>\n",
       "  <tbody>\n",
       "    <tr>\n",
       "      <th>0</th>\n",
       "      <td>Tanh</td>\n",
       "      <td>False</td>\n",
       "      <td>False</td>\n",
       "      <td>[0.15782220514412715, 0.04831120843995066, 0.0...</td>\n",
       "      <td>[0.0713755130430441, 0.03504684225820443, 0.02...</td>\n",
       "      <td>203.149423</td>\n",
       "      <td>279300</td>\n",
       "      <td>944</td>\n",
       "      <td>0.009200</td>\n",
       "      <td>0.215201</td>\n",
       "    </tr>\n",
       "    <tr>\n",
       "      <th>1</th>\n",
       "      <td>Sigmoid</td>\n",
       "      <td>False</td>\n",
       "      <td>False</td>\n",
       "      <td>[0.17786815722167182, 0.08372693487025627, 0.0...</td>\n",
       "      <td>[0.07451590496487667, 0.05816368026133466, 0.0...</td>\n",
       "      <td>293.484200</td>\n",
       "      <td>279300</td>\n",
       "      <td>1268</td>\n",
       "      <td>0.017268</td>\n",
       "      <td>0.231454</td>\n",
       "    </tr>\n",
       "    <tr>\n",
       "      <th>2</th>\n",
       "      <td>ReLU</td>\n",
       "      <td>False</td>\n",
       "      <td>False</td>\n",
       "      <td>[0.11545901025141186, 0.04762567327323552, 0.0...</td>\n",
       "      <td>[0.05975095872989491, 0.037239864578336605, 0....</td>\n",
       "      <td>128.038925</td>\n",
       "      <td>279300</td>\n",
       "      <td>563</td>\n",
       "      <td>0.006136</td>\n",
       "      <td>0.227423</td>\n",
       "    </tr>\n",
       "    <tr>\n",
       "      <th>3</th>\n",
       "      <td>LReLU</td>\n",
       "      <td>False</td>\n",
       "      <td>False</td>\n",
       "      <td>[0.14130541516205533, 0.04607140922414809, 0.0...</td>\n",
       "      <td>[0.050753829041744705, 0.0344321773003851, 0.0...</td>\n",
       "      <td>123.017013</td>\n",
       "      <td>279300</td>\n",
       "      <td>530</td>\n",
       "      <td>0.007990</td>\n",
       "      <td>0.232108</td>\n",
       "    </tr>\n",
       "    <tr>\n",
       "      <th>4</th>\n",
       "      <td>Tanh</td>\n",
       "      <td>True</td>\n",
       "      <td>False</td>\n",
       "      <td>[0.16857484789378238, 0.05025698776664844, 0.0...</td>\n",
       "      <td>[0.09151100837301526, 0.034235582437114054, 0....</td>\n",
       "      <td>20.282818</td>\n",
       "      <td>279812</td>\n",
       "      <td>90</td>\n",
       "      <td>0.015721</td>\n",
       "      <td>0.225365</td>\n",
       "    </tr>\n",
       "    <tr>\n",
       "      <th>5</th>\n",
       "      <td>Sigmoid</td>\n",
       "      <td>True</td>\n",
       "      <td>False</td>\n",
       "      <td>[0.11911909528275737, 0.05107189429616612, 0.0...</td>\n",
       "      <td>[0.04742950404109804, 0.050935899018259935, 0....</td>\n",
       "      <td>26.889812</td>\n",
       "      <td>279812</td>\n",
       "      <td>111</td>\n",
       "      <td>0.020527</td>\n",
       "      <td>0.242251</td>\n",
       "    </tr>\n",
       "    <tr>\n",
       "      <th>6</th>\n",
       "      <td>ReLU</td>\n",
       "      <td>True</td>\n",
       "      <td>False</td>\n",
       "      <td>[0.1553593709327214, 0.04159778992507563, 0.02...</td>\n",
       "      <td>[0.05153125875618129, 0.04767508184889863, 0.0...</td>\n",
       "      <td>34.498730</td>\n",
       "      <td>279812</td>\n",
       "      <td>145</td>\n",
       "      <td>0.011746</td>\n",
       "      <td>0.237922</td>\n",
       "    </tr>\n",
       "    <tr>\n",
       "      <th>7</th>\n",
       "      <td>LReLU</td>\n",
       "      <td>True</td>\n",
       "      <td>False</td>\n",
       "      <td>[0.12792163661984332, 0.04200335551813602, 0.0...</td>\n",
       "      <td>[0.053266620084412596, 0.038293829035181595, 0...</td>\n",
       "      <td>36.379822</td>\n",
       "      <td>279812</td>\n",
       "      <td>151</td>\n",
       "      <td>0.012640</td>\n",
       "      <td>0.240926</td>\n",
       "    </tr>\n",
       "  </tbody>\n",
       "</table>\n",
       "</div>"
      ],
      "text/plain": [
       "        af     bn  sigmoid                                       train_losses  \\\n",
       "0     Tanh  False    False  [0.15782220514412715, 0.04831120843995066, 0.0...   \n",
       "1  Sigmoid  False    False  [0.17786815722167182, 0.08372693487025627, 0.0...   \n",
       "2     ReLU  False    False  [0.11545901025141186, 0.04762567327323552, 0.0...   \n",
       "3    LReLU  False    False  [0.14130541516205533, 0.04607140922414809, 0.0...   \n",
       "4     Tanh   True    False  [0.16857484789378238, 0.05025698776664844, 0.0...   \n",
       "5  Sigmoid   True    False  [0.11911909528275737, 0.05107189429616612, 0.0...   \n",
       "6     ReLU   True    False  [0.1553593709327214, 0.04159778992507563, 0.02...   \n",
       "7    LReLU   True    False  [0.12792163661984332, 0.04200335551813602, 0.0...   \n",
       "\n",
       "                                        valid_losses   exec_time  n_params  \\\n",
       "0  [0.0713755130430441, 0.03504684225820443, 0.02...  203.149423    279300   \n",
       "1  [0.07451590496487667, 0.05816368026133466, 0.0...  293.484200    279300   \n",
       "2  [0.05975095872989491, 0.037239864578336605, 0....  128.038925    279300   \n",
       "3  [0.050753829041744705, 0.0344321773003851, 0.0...  123.017013    279300   \n",
       "4  [0.09151100837301526, 0.034235582437114054, 0....   20.282818    279812   \n",
       "5  [0.04742950404109804, 0.050935899018259935, 0....   26.889812    279812   \n",
       "6  [0.05153125875618129, 0.04767508184889863, 0.0...   34.498730    279812   \n",
       "7  [0.053266620084412596, 0.038293829035181595, 0...   36.379822    279812   \n",
       "\n",
       "   epochs  min_loss  unit_time  \n",
       "0     944  0.009200   0.215201  \n",
       "1    1268  0.017268   0.231454  \n",
       "2     563  0.006136   0.227423  \n",
       "3     530  0.007990   0.232108  \n",
       "4      90  0.015721   0.225365  \n",
       "5     111  0.020527   0.242251  \n",
       "6     145  0.011746   0.237922  \n",
       "7     151  0.012640   0.240926  "
      ]
     },
     "execution_count": 112,
     "metadata": {},
     "output_type": "execute_result"
    }
   ],
   "source": [
    "df = pd.DataFrame(results2, columns=['af', 'bn', 'sigmoid', 'train_losses', 'valid_losses', 'exec_time', 'n_params'])\n",
    "df['epochs'] = df.valid_losses.apply(lambda x: len(x))\n",
    "df['min_loss'] = df.valid_losses.apply(lambda x: np.min(x))\n",
    "df['unit_time'] = df.exec_time / df.epochs\n",
    "df"
   ]
  },
  {
   "cell_type": "code",
   "execution_count": null,
   "metadata": {
    "colab": {
     "base_uri": "https://localhost:8080/"
    },
    "id": "hcPilo92DW3h",
    "outputId": "b3d31694-fd19-4be4-b892-43a16a138af8"
   },
   "outputs": [
    {
     "name": "stderr",
     "output_type": "stream",
     "text": [
      "Epochs:  48%|██████████████████████████████████                                     | 719/1500 [00:54<00:59, 13.10it/s]\n",
      "Epochs:  24%|████████████████▊                                                      | 354/1500 [00:29<01:35, 11.97it/s]\n",
      "Epochs:  45%|████████████████████████████████                                       | 678/1500 [00:54<01:05, 12.53it/s]\n",
      "Epochs:  45%|████████████████████████████████▏                                      | 681/1500 [00:58<01:10, 11.66it/s]\n"
     ]
    }
   ],
   "source": [
    "n_epoch = 1500\n",
    "results3 = []\n",
    "for sigmoid in sigmoids:\n",
    "    if not sigmoid:\n",
    "        for bn in bns:\n",
    "            for af_name, af in afs:\n",
    "                criterion = nn.MSELoss()\n",
    "                fcn = FCN(layers_sizes=[128,128,128], bn=bn, af=af, transform_output=sigmoid).double()\n",
    "                sgd = torch.optim.SGD(fcn.parameters(), lr=0.01, momentum=0.9, weight_decay=1e-3)\n",
    "\n",
    "                start_time = time.time()\n",
    "                train_losses, valid_losses = train_model(fcn, train_loader, test_loader, criterion, sgd, device, n_epoch, early_stop=True, patience=20)\n",
    "                end_time = time.time()\n",
    "\n",
    "                results3.append((af_name, bn, sigmoid, train_losses, valid_losses, end_time-start_time, sum(p.numel() for p in fcn.parameters())))"
   ]
  },
  {
   "cell_type": "code",
   "execution_count": null,
   "metadata": {
    "colab": {
     "base_uri": "https://localhost:8080/",
     "height": 175
    },
    "id": "DfGE92GqG1af",
    "outputId": "9bf43c3d-3a6b-42b5-c9f4-155cffda1a3b"
   },
   "outputs": [
    {
     "data": {
      "text/html": [
       "<div>\n",
       "<style scoped>\n",
       "    .dataframe tbody tr th:only-of-type {\n",
       "        vertical-align: middle;\n",
       "    }\n",
       "\n",
       "    .dataframe tbody tr th {\n",
       "        vertical-align: top;\n",
       "    }\n",
       "\n",
       "    .dataframe thead th {\n",
       "        text-align: right;\n",
       "    }\n",
       "</style>\n",
       "<table border=\"1\" class=\"dataframe\">\n",
       "  <thead>\n",
       "    <tr style=\"text-align: right;\">\n",
       "      <th></th>\n",
       "      <th>af</th>\n",
       "      <th>bn</th>\n",
       "      <th>sigmoid</th>\n",
       "      <th>train_losses</th>\n",
       "      <th>valid_losses</th>\n",
       "      <th>exec_time</th>\n",
       "      <th>n_params</th>\n",
       "      <th>epochs</th>\n",
       "      <th>min_loss</th>\n",
       "      <th>unit_time</th>\n",
       "    </tr>\n",
       "  </thead>\n",
       "  <tbody>\n",
       "    <tr>\n",
       "      <th>0</th>\n",
       "      <td>Tanh</td>\n",
       "      <td>False</td>\n",
       "      <td>False</td>\n",
       "      <td>[0.16652990627677827, 0.04408003780066012, 0.0...</td>\n",
       "      <td>[0.07064231554977499, 0.03568414121325873, 0.0...</td>\n",
       "      <td>54.905574</td>\n",
       "      <td>295812</td>\n",
       "      <td>720</td>\n",
       "      <td>0.010135</td>\n",
       "      <td>0.076258</td>\n",
       "    </tr>\n",
       "    <tr>\n",
       "      <th>1</th>\n",
       "      <td>Sigmoid</td>\n",
       "      <td>False</td>\n",
       "      <td>False</td>\n",
       "      <td>[0.10013880160560897, 0.0633159528754904, 0.05...</td>\n",
       "      <td>[0.05944671554915052, 0.0528486692426096, 0.05...</td>\n",
       "      <td>29.586356</td>\n",
       "      <td>295812</td>\n",
       "      <td>355</td>\n",
       "      <td>0.029739</td>\n",
       "      <td>0.083342</td>\n",
       "    </tr>\n",
       "    <tr>\n",
       "      <th>2</th>\n",
       "      <td>ReLU</td>\n",
       "      <td>False</td>\n",
       "      <td>False</td>\n",
       "      <td>[0.22312303779717815, 0.062388842589101275, 0....</td>\n",
       "      <td>[0.1015767391313167, 0.05134142973924629, 0.03...</td>\n",
       "      <td>54.131233</td>\n",
       "      <td>295812</td>\n",
       "      <td>679</td>\n",
       "      <td>0.005982</td>\n",
       "      <td>0.079722</td>\n",
       "    </tr>\n",
       "    <tr>\n",
       "      <th>3</th>\n",
       "      <td>LReLU</td>\n",
       "      <td>False</td>\n",
       "      <td>False</td>\n",
       "      <td>[0.20083694810350064, 0.05579306024746086, 0.0...</td>\n",
       "      <td>[0.08191779320315065, 0.052588942990717126, 0....</td>\n",
       "      <td>58.415635</td>\n",
       "      <td>295812</td>\n",
       "      <td>682</td>\n",
       "      <td>0.007475</td>\n",
       "      <td>0.085653</td>\n",
       "    </tr>\n",
       "  </tbody>\n",
       "</table>\n",
       "</div>"
      ],
      "text/plain": [
       "        af     bn  sigmoid                                       train_losses  \\\n",
       "0     Tanh  False    False  [0.16652990627677827, 0.04408003780066012, 0.0...   \n",
       "1  Sigmoid  False    False  [0.10013880160560897, 0.0633159528754904, 0.05...   \n",
       "2     ReLU  False    False  [0.22312303779717815, 0.062388842589101275, 0....   \n",
       "3    LReLU  False    False  [0.20083694810350064, 0.05579306024746086, 0.0...   \n",
       "\n",
       "                                        valid_losses  exec_time  n_params  \\\n",
       "0  [0.07064231554977499, 0.03568414121325873, 0.0...  54.905574    295812   \n",
       "1  [0.05944671554915052, 0.0528486692426096, 0.05...  29.586356    295812   \n",
       "2  [0.1015767391313167, 0.05134142973924629, 0.03...  54.131233    295812   \n",
       "3  [0.08191779320315065, 0.052588942990717126, 0....  58.415635    295812   \n",
       "\n",
       "   epochs  min_loss  unit_time  \n",
       "0     720  0.010135   0.076258  \n",
       "1     355  0.029739   0.083342  \n",
       "2     679  0.005982   0.079722  \n",
       "3     682  0.007475   0.085653  "
      ]
     },
     "execution_count": 84,
     "metadata": {},
     "output_type": "execute_result"
    }
   ],
   "source": [
    "df = pd.DataFrame(results3, columns=['af', 'bn', 'sigmoid', 'train_losses', 'valid_losses', 'exec_time', 'n_params'])\n",
    "df['epochs'] = df.valid_losses.apply(lambda x: len(x))\n",
    "df['min_loss'] = df.valid_losses.apply(lambda x: np.min(x))\n",
    "df['unit_time'] = df.exec_time / df.epochs\n",
    "df"
   ]
  },
  {
   "cell_type": "code",
   "execution_count": null,
   "metadata": {
    "id": "7BHUYv1jub50"
   },
   "outputs": [],
   "source": [
    "df1 = pd.DataFrame(results, columns=['af', 'bn', 'sigmoid', 'train_losses', 'valid_losses', 'exec_time', 'n_params'])\n",
    "df2 = pd.DataFrame(results2, columns=['af', 'bn', 'sigmoid', 'train_losses', 'valid_losses', 'exec_time', 'n_params'])\n",
    "df3 = pd.DataFrame(results3, columns=['af', 'bn', 'sigmoid', 'train_losses', 'valid_losses', 'exec_time', 'n_params'])"
   ]
  },
  {
   "cell_type": "code",
   "execution_count": null,
   "metadata": {
    "id": "3DgCCDWXPjgf"
   },
   "outputs": [],
   "source": [
    "df1['depth'] = 2\n",
    "df1['width'] = 256\n",
    "df2['depth'] = 2\n",
    "df2['width'] = 128\n",
    "df3['depth'] = 3\n",
    "df3['width'] = 128"
   ]
  },
  {
   "cell_type": "code",
   "execution_count": null,
   "metadata": {
    "colab": {
     "base_uri": "https://localhost:8080/",
     "height": 426
    },
    "id": "f_u2BNHxPyjB",
    "outputId": "37a28fb5-f56f-4885-a234-15a98c73bf6a"
   },
   "outputs": [
    {
     "data": {
      "text/html": [
       "<div>\n",
       "<style scoped>\n",
       "    .dataframe tbody tr th:only-of-type {\n",
       "        vertical-align: middle;\n",
       "    }\n",
       "\n",
       "    .dataframe tbody tr th {\n",
       "        vertical-align: top;\n",
       "    }\n",
       "\n",
       "    .dataframe thead th {\n",
       "        text-align: right;\n",
       "    }\n",
       "</style>\n",
       "<table border=\"1\" class=\"dataframe\">\n",
       "  <thead>\n",
       "    <tr style=\"text-align: right;\">\n",
       "      <th></th>\n",
       "      <th>af</th>\n",
       "      <th>bn</th>\n",
       "      <th>sigmoid</th>\n",
       "      <th>train_losses</th>\n",
       "      <th>valid_losses</th>\n",
       "      <th>exec_time</th>\n",
       "      <th>n_params</th>\n",
       "      <th>depth</th>\n",
       "      <th>width</th>\n",
       "      <th>epochs</th>\n",
       "      <th>min_loss</th>\n",
       "      <th>unit_time</th>\n",
       "    </tr>\n",
       "  </thead>\n",
       "  <tbody>\n",
       "    <tr>\n",
       "      <th>0</th>\n",
       "      <td>Tanh</td>\n",
       "      <td>False</td>\n",
       "      <td>False</td>\n",
       "      <td>[0.17981939752977746, 0.05032275425044493, 0.0...</td>\n",
       "      <td>[0.07702602834983255, 0.03318720384138642, 0.0...</td>\n",
       "      <td>71.365721</td>\n",
       "      <td>591364</td>\n",
       "      <td>2</td>\n",
       "      <td>256</td>\n",
       "      <td>644</td>\n",
       "      <td>0.010423</td>\n",
       "      <td>0.110816</td>\n",
       "    </tr>\n",
       "    <tr>\n",
       "      <th>1</th>\n",
       "      <td>Sigmoid</td>\n",
       "      <td>False</td>\n",
       "      <td>False</td>\n",
       "      <td>[0.15229266200311883, 0.07158465998064972, 0.0...</td>\n",
       "      <td>[0.057044222940540915, 0.05686037766881276, 0....</td>\n",
       "      <td>79.204376</td>\n",
       "      <td>591364</td>\n",
       "      <td>2</td>\n",
       "      <td>256</td>\n",
       "      <td>662</td>\n",
       "      <td>0.019945</td>\n",
       "      <td>0.119644</td>\n",
       "    </tr>\n",
       "    <tr>\n",
       "      <th>2</th>\n",
       "      <td>ReLU</td>\n",
       "      <td>False</td>\n",
       "      <td>False</td>\n",
       "      <td>[0.12918778453359292, 0.046405317637554656, 0....</td>\n",
       "      <td>[0.06297024770319716, 0.03665541951487268, 0.0...</td>\n",
       "      <td>61.684082</td>\n",
       "      <td>591364</td>\n",
       "      <td>2</td>\n",
       "      <td>256</td>\n",
       "      <td>533</td>\n",
       "      <td>0.006061</td>\n",
       "      <td>0.115730</td>\n",
       "    </tr>\n",
       "    <tr>\n",
       "      <th>3</th>\n",
       "      <td>LReLU</td>\n",
       "      <td>False</td>\n",
       "      <td>False</td>\n",
       "      <td>[0.14672472535731862, 0.04640654663119611, 0.0...</td>\n",
       "      <td>[0.05043349326103116, 0.0355459644035629, 0.02...</td>\n",
       "      <td>68.830203</td>\n",
       "      <td>591364</td>\n",
       "      <td>2</td>\n",
       "      <td>256</td>\n",
       "      <td>546</td>\n",
       "      <td>0.007235</td>\n",
       "      <td>0.126063</td>\n",
       "    </tr>\n",
       "    <tr>\n",
       "      <th>0</th>\n",
       "      <td>Tanh</td>\n",
       "      <td>False</td>\n",
       "      <td>False</td>\n",
       "      <td>[0.1918139657966401, 0.05723771321300084, 0.03...</td>\n",
       "      <td>[0.0908567634805552, 0.035855735470885455, 0.0...</td>\n",
       "      <td>51.622066</td>\n",
       "      <td>279300</td>\n",
       "      <td>2</td>\n",
       "      <td>128</td>\n",
       "      <td>732</td>\n",
       "      <td>0.010108</td>\n",
       "      <td>0.070522</td>\n",
       "    </tr>\n",
       "    <tr>\n",
       "      <th>1</th>\n",
       "      <td>Sigmoid</td>\n",
       "      <td>False</td>\n",
       "      <td>False</td>\n",
       "      <td>[0.124715257277019, 0.07047105935404292, 0.049...</td>\n",
       "      <td>[0.05847028841152598, 0.06037694086539332, 0.0...</td>\n",
       "      <td>81.657403</td>\n",
       "      <td>279300</td>\n",
       "      <td>2</td>\n",
       "      <td>128</td>\n",
       "      <td>1056</td>\n",
       "      <td>0.017916</td>\n",
       "      <td>0.077327</td>\n",
       "    </tr>\n",
       "    <tr>\n",
       "      <th>2</th>\n",
       "      <td>ReLU</td>\n",
       "      <td>False</td>\n",
       "      <td>False</td>\n",
       "      <td>[0.14020447756193952, 0.049289601588489086, 0....</td>\n",
       "      <td>[0.0541498415848715, 0.03704290909893427, 0.03...</td>\n",
       "      <td>36.642948</td>\n",
       "      <td>279300</td>\n",
       "      <td>2</td>\n",
       "      <td>128</td>\n",
       "      <td>481</td>\n",
       "      <td>0.006448</td>\n",
       "      <td>0.076181</td>\n",
       "    </tr>\n",
       "    <tr>\n",
       "      <th>3</th>\n",
       "      <td>LReLU</td>\n",
       "      <td>False</td>\n",
       "      <td>False</td>\n",
       "      <td>[0.13528984372714595, 0.04636822291792311, 0.0...</td>\n",
       "      <td>[0.050730052071811305, 0.03372244553128514, 0....</td>\n",
       "      <td>41.031830</td>\n",
       "      <td>279300</td>\n",
       "      <td>2</td>\n",
       "      <td>128</td>\n",
       "      <td>538</td>\n",
       "      <td>0.007838</td>\n",
       "      <td>0.076267</td>\n",
       "    </tr>\n",
       "    <tr>\n",
       "      <th>0</th>\n",
       "      <td>Tanh</td>\n",
       "      <td>False</td>\n",
       "      <td>False</td>\n",
       "      <td>[0.16652990627677827, 0.04408003780066012, 0.0...</td>\n",
       "      <td>[0.07064231554977499, 0.03568414121325873, 0.0...</td>\n",
       "      <td>54.905574</td>\n",
       "      <td>295812</td>\n",
       "      <td>3</td>\n",
       "      <td>128</td>\n",
       "      <td>720</td>\n",
       "      <td>0.010135</td>\n",
       "      <td>0.076258</td>\n",
       "    </tr>\n",
       "    <tr>\n",
       "      <th>1</th>\n",
       "      <td>Sigmoid</td>\n",
       "      <td>False</td>\n",
       "      <td>False</td>\n",
       "      <td>[0.10013880160560897, 0.0633159528754904, 0.05...</td>\n",
       "      <td>[0.05944671554915052, 0.0528486692426096, 0.05...</td>\n",
       "      <td>29.586356</td>\n",
       "      <td>295812</td>\n",
       "      <td>3</td>\n",
       "      <td>128</td>\n",
       "      <td>355</td>\n",
       "      <td>0.029739</td>\n",
       "      <td>0.083342</td>\n",
       "    </tr>\n",
       "    <tr>\n",
       "      <th>2</th>\n",
       "      <td>ReLU</td>\n",
       "      <td>False</td>\n",
       "      <td>False</td>\n",
       "      <td>[0.22312303779717815, 0.062388842589101275, 0....</td>\n",
       "      <td>[0.1015767391313167, 0.05134142973924629, 0.03...</td>\n",
       "      <td>54.131233</td>\n",
       "      <td>295812</td>\n",
       "      <td>3</td>\n",
       "      <td>128</td>\n",
       "      <td>679</td>\n",
       "      <td>0.005982</td>\n",
       "      <td>0.079722</td>\n",
       "    </tr>\n",
       "    <tr>\n",
       "      <th>3</th>\n",
       "      <td>LReLU</td>\n",
       "      <td>False</td>\n",
       "      <td>False</td>\n",
       "      <td>[0.20083694810350064, 0.05579306024746086, 0.0...</td>\n",
       "      <td>[0.08191779320315065, 0.052588942990717126, 0....</td>\n",
       "      <td>58.415635</td>\n",
       "      <td>295812</td>\n",
       "      <td>3</td>\n",
       "      <td>128</td>\n",
       "      <td>682</td>\n",
       "      <td>0.007475</td>\n",
       "      <td>0.085653</td>\n",
       "    </tr>\n",
       "  </tbody>\n",
       "</table>\n",
       "</div>"
      ],
      "text/plain": [
       "        af     bn  sigmoid                                       train_losses  \\\n",
       "0     Tanh  False    False  [0.17981939752977746, 0.05032275425044493, 0.0...   \n",
       "1  Sigmoid  False    False  [0.15229266200311883, 0.07158465998064972, 0.0...   \n",
       "2     ReLU  False    False  [0.12918778453359292, 0.046405317637554656, 0....   \n",
       "3    LReLU  False    False  [0.14672472535731862, 0.04640654663119611, 0.0...   \n",
       "0     Tanh  False    False  [0.1918139657966401, 0.05723771321300084, 0.03...   \n",
       "1  Sigmoid  False    False  [0.124715257277019, 0.07047105935404292, 0.049...   \n",
       "2     ReLU  False    False  [0.14020447756193952, 0.049289601588489086, 0....   \n",
       "3    LReLU  False    False  [0.13528984372714595, 0.04636822291792311, 0.0...   \n",
       "0     Tanh  False    False  [0.16652990627677827, 0.04408003780066012, 0.0...   \n",
       "1  Sigmoid  False    False  [0.10013880160560897, 0.0633159528754904, 0.05...   \n",
       "2     ReLU  False    False  [0.22312303779717815, 0.062388842589101275, 0....   \n",
       "3    LReLU  False    False  [0.20083694810350064, 0.05579306024746086, 0.0...   \n",
       "\n",
       "                                        valid_losses  exec_time  n_params  \\\n",
       "0  [0.07702602834983255, 0.03318720384138642, 0.0...  71.365721    591364   \n",
       "1  [0.057044222940540915, 0.05686037766881276, 0....  79.204376    591364   \n",
       "2  [0.06297024770319716, 0.03665541951487268, 0.0...  61.684082    591364   \n",
       "3  [0.05043349326103116, 0.0355459644035629, 0.02...  68.830203    591364   \n",
       "0  [0.0908567634805552, 0.035855735470885455, 0.0...  51.622066    279300   \n",
       "1  [0.05847028841152598, 0.06037694086539332, 0.0...  81.657403    279300   \n",
       "2  [0.0541498415848715, 0.03704290909893427, 0.03...  36.642948    279300   \n",
       "3  [0.050730052071811305, 0.03372244553128514, 0....  41.031830    279300   \n",
       "0  [0.07064231554977499, 0.03568414121325873, 0.0...  54.905574    295812   \n",
       "1  [0.05944671554915052, 0.0528486692426096, 0.05...  29.586356    295812   \n",
       "2  [0.1015767391313167, 0.05134142973924629, 0.03...  54.131233    295812   \n",
       "3  [0.08191779320315065, 0.052588942990717126, 0....  58.415635    295812   \n",
       "\n",
       "   depth  width  epochs  min_loss  unit_time  \n",
       "0      2    256     644  0.010423   0.110816  \n",
       "1      2    256     662  0.019945   0.119644  \n",
       "2      2    256     533  0.006061   0.115730  \n",
       "3      2    256     546  0.007235   0.126063  \n",
       "0      2    128     732  0.010108   0.070522  \n",
       "1      2    128    1056  0.017916   0.077327  \n",
       "2      2    128     481  0.006448   0.076181  \n",
       "3      2    128     538  0.007838   0.076267  \n",
       "0      3    128     720  0.010135   0.076258  \n",
       "1      3    128     355  0.029739   0.083342  \n",
       "2      3    128     679  0.005982   0.079722  \n",
       "3      3    128     682  0.007475   0.085653  "
      ]
     },
     "execution_count": 87,
     "metadata": {},
     "output_type": "execute_result"
    }
   ],
   "source": [
    "df = pd.concat([df1, df2, df3])\n",
    "df = df[(df['sigmoid'] == False)&(df['bn'] == False)]\n",
    "df['epochs'] = df.valid_losses.apply(lambda x: len(x))\n",
    "df['min_loss'] = df.valid_losses.apply(lambda x: np.min(x))\n",
    "df['unit_time'] = df.exec_time / df.epochs\n",
    "df"
   ]
  },
  {
   "cell_type": "code",
   "execution_count": null,
   "metadata": {
    "colab": {
     "base_uri": "https://localhost:8080/",
     "height": 426
    },
    "id": "bOrxI-qwQGW0",
    "outputId": "c5ce5100-a80c-4dab-a027-5e1a620afcf4"
   },
   "outputs": [
    {
     "data": {
      "text/html": [
       "<div>\n",
       "<style scoped>\n",
       "    .dataframe tbody tr th:only-of-type {\n",
       "        vertical-align: middle;\n",
       "    }\n",
       "\n",
       "    .dataframe tbody tr th {\n",
       "        vertical-align: top;\n",
       "    }\n",
       "\n",
       "    .dataframe thead th {\n",
       "        text-align: right;\n",
       "    }\n",
       "</style>\n",
       "<table border=\"1\" class=\"dataframe\">\n",
       "  <thead>\n",
       "    <tr style=\"text-align: right;\">\n",
       "      <th></th>\n",
       "      <th>depth</th>\n",
       "      <th>width</th>\n",
       "      <th>af</th>\n",
       "      <th>n_params</th>\n",
       "      <th>epochs</th>\n",
       "      <th>unit_time</th>\n",
       "      <th>min_loss</th>\n",
       "    </tr>\n",
       "  </thead>\n",
       "  <tbody>\n",
       "    <tr>\n",
       "      <th>2</th>\n",
       "      <td>3</td>\n",
       "      <td>128</td>\n",
       "      <td>ReLU</td>\n",
       "      <td>295812</td>\n",
       "      <td>679</td>\n",
       "      <td>0.079722</td>\n",
       "      <td>0.005982</td>\n",
       "    </tr>\n",
       "    <tr>\n",
       "      <th>2</th>\n",
       "      <td>2</td>\n",
       "      <td>256</td>\n",
       "      <td>ReLU</td>\n",
       "      <td>591364</td>\n",
       "      <td>533</td>\n",
       "      <td>0.115730</td>\n",
       "      <td>0.006061</td>\n",
       "    </tr>\n",
       "    <tr>\n",
       "      <th>2</th>\n",
       "      <td>2</td>\n",
       "      <td>128</td>\n",
       "      <td>ReLU</td>\n",
       "      <td>279300</td>\n",
       "      <td>481</td>\n",
       "      <td>0.076181</td>\n",
       "      <td>0.006448</td>\n",
       "    </tr>\n",
       "    <tr>\n",
       "      <th>3</th>\n",
       "      <td>2</td>\n",
       "      <td>256</td>\n",
       "      <td>LReLU</td>\n",
       "      <td>591364</td>\n",
       "      <td>546</td>\n",
       "      <td>0.126063</td>\n",
       "      <td>0.007235</td>\n",
       "    </tr>\n",
       "    <tr>\n",
       "      <th>3</th>\n",
       "      <td>3</td>\n",
       "      <td>128</td>\n",
       "      <td>LReLU</td>\n",
       "      <td>295812</td>\n",
       "      <td>682</td>\n",
       "      <td>0.085653</td>\n",
       "      <td>0.007475</td>\n",
       "    </tr>\n",
       "    <tr>\n",
       "      <th>3</th>\n",
       "      <td>2</td>\n",
       "      <td>128</td>\n",
       "      <td>LReLU</td>\n",
       "      <td>279300</td>\n",
       "      <td>538</td>\n",
       "      <td>0.076267</td>\n",
       "      <td>0.007838</td>\n",
       "    </tr>\n",
       "    <tr>\n",
       "      <th>0</th>\n",
       "      <td>2</td>\n",
       "      <td>128</td>\n",
       "      <td>Tanh</td>\n",
       "      <td>279300</td>\n",
       "      <td>732</td>\n",
       "      <td>0.070522</td>\n",
       "      <td>0.010108</td>\n",
       "    </tr>\n",
       "    <tr>\n",
       "      <th>0</th>\n",
       "      <td>3</td>\n",
       "      <td>128</td>\n",
       "      <td>Tanh</td>\n",
       "      <td>295812</td>\n",
       "      <td>720</td>\n",
       "      <td>0.076258</td>\n",
       "      <td>0.010135</td>\n",
       "    </tr>\n",
       "    <tr>\n",
       "      <th>0</th>\n",
       "      <td>2</td>\n",
       "      <td>256</td>\n",
       "      <td>Tanh</td>\n",
       "      <td>591364</td>\n",
       "      <td>644</td>\n",
       "      <td>0.110816</td>\n",
       "      <td>0.010423</td>\n",
       "    </tr>\n",
       "    <tr>\n",
       "      <th>1</th>\n",
       "      <td>2</td>\n",
       "      <td>128</td>\n",
       "      <td>Sigmoid</td>\n",
       "      <td>279300</td>\n",
       "      <td>1056</td>\n",
       "      <td>0.077327</td>\n",
       "      <td>0.017916</td>\n",
       "    </tr>\n",
       "    <tr>\n",
       "      <th>1</th>\n",
       "      <td>2</td>\n",
       "      <td>256</td>\n",
       "      <td>Sigmoid</td>\n",
       "      <td>591364</td>\n",
       "      <td>662</td>\n",
       "      <td>0.119644</td>\n",
       "      <td>0.019945</td>\n",
       "    </tr>\n",
       "    <tr>\n",
       "      <th>1</th>\n",
       "      <td>3</td>\n",
       "      <td>128</td>\n",
       "      <td>Sigmoid</td>\n",
       "      <td>295812</td>\n",
       "      <td>355</td>\n",
       "      <td>0.083342</td>\n",
       "      <td>0.029739</td>\n",
       "    </tr>\n",
       "  </tbody>\n",
       "</table>\n",
       "</div>"
      ],
      "text/plain": [
       "   depth  width       af  n_params  epochs  unit_time  min_loss\n",
       "2      3    128     ReLU    295812     679   0.079722  0.005982\n",
       "2      2    256     ReLU    591364     533   0.115730  0.006061\n",
       "2      2    128     ReLU    279300     481   0.076181  0.006448\n",
       "3      2    256    LReLU    591364     546   0.126063  0.007235\n",
       "3      3    128    LReLU    295812     682   0.085653  0.007475\n",
       "3      2    128    LReLU    279300     538   0.076267  0.007838\n",
       "0      2    128     Tanh    279300     732   0.070522  0.010108\n",
       "0      3    128     Tanh    295812     720   0.076258  0.010135\n",
       "0      2    256     Tanh    591364     644   0.110816  0.010423\n",
       "1      2    128  Sigmoid    279300    1056   0.077327  0.017916\n",
       "1      2    256  Sigmoid    591364     662   0.119644  0.019945\n",
       "1      3    128  Sigmoid    295812     355   0.083342  0.029739"
      ]
     },
     "execution_count": 88,
     "metadata": {},
     "output_type": "execute_result"
    }
   ],
   "source": [
    "df = df.sort_values(by='min_loss')\n",
    "df_p = df[['depth', 'width', 'af', 'n_params', 'epochs', 'unit_time', 'min_loss']]\n",
    "df_p"
   ]
  },
  {
   "cell_type": "code",
   "execution_count": null,
   "metadata": {
    "colab": {
     "base_uri": "https://localhost:8080/",
     "height": 458
    },
    "id": "0RwTNJtwbe5W",
    "outputId": "fc2e2785-c1fb-402a-f430-f745af2ba02b"
   },
   "outputs": [
    {
     "data": {
      "image/png": "[encoded data removed]",
      "text/plain": [
       "<Figure size 720x504 with 1 Axes>"
      ]
     },
     "metadata": {
      "needs_background": "light"
     },
     "output_type": "display_data"
    }
   ],
   "source": [
    "start = 2\n",
    "valid_losses1 = df.iloc[0]['valid_losses']\n",
    "valid_losses2 = df.iloc[3]['valid_losses']\n",
    "valid_losses3 = df.iloc[6]['valid_losses']\n",
    "valid_losses4 = df.iloc[9]['valid_losses']\n",
    "    \n",
    "_, ax = plt.subplots(1,1,figsize=(10,7))\n",
    "\n",
    "x1 = np.arange(len(valid_losses1[start:]))+1\n",
    "x2 = np.arange(len(valid_losses2[start:]))+1\n",
    "x3 = np.arange(len(valid_losses3[start:]))+1\n",
    "x4 = np.arange(len(valid_losses4[start:]))+1\n",
    "\n",
    "ax.set_title('Validation loss over epochs')\n",
    "ax.set_xlabel('Epoch')\n",
    "ax.set_ylabel('MSE')\n",
    "\n",
    "colors = plt.cm.BrBG(np.linspace(0, 1, 4))\n",
    "\n",
    "ax.plot(x1, valid_losses1[start:], label='ReLU', color=colors[0])\n",
    "ax.plot(x2, valid_losses2[start:], label='LReLU', color=colors[1])\n",
    "ax.plot(x3, valid_losses3[start:], label='Tanh', color=colors[2])\n",
    "ax.plot(x4, valid_losses4[start:], label='Sigmoid', color=colors[3])\n",
    "\n",
    "\n",
    "ax.legend()\n",
    "plt.savefig('mlp_mse')\n",
    "plt.show()"
   ]
  },
  {
   "cell_type": "code",
   "execution_count": null,
   "metadata": {
    "colab": {
     "base_uri": "https://localhost:8080/",
     "height": 634
    },
    "id": "C_AnUxFrRFrf",
    "outputId": "6031bbf5-433c-4c74-e56d-d6976d9ef4fc"
   },
   "outputs": [
    {
     "name": "stderr",
     "output_type": "stream",
     "text": [
      "<ipython-input-99-69a60bf9fb38>:1: SettingWithCopyWarning: \n",
      "A value is trying to be set on a copy of a slice from a DataFrame.\n",
      "Try using .loc[row_indexer,col_indexer] = value instead\n",
      "\n",
      "See the caveats in the documentation: https://pandas.pydata.org/pandas-docs/stable/user_guide/indexing.html#returning-a-view-versus-a-copy\n",
      "  df_p['unit_time'] = np.round(df_p['unit_time'], 3)\n",
      "<ipython-input-99-69a60bf9fb38>:2: SettingWithCopyWarning: \n",
      "A value is trying to be set on a copy of a slice from a DataFrame.\n",
      "Try using .loc[row_indexer,col_indexer] = value instead\n",
      "\n",
      "See the caveats in the documentation: https://pandas.pydata.org/pandas-docs/stable/user_guide/indexing.html#returning-a-view-versus-a-copy\n",
      "  df_p['min_loss'] = np.round(df_p['min_loss'], 4)\n"
     ]
    },
    {
     "data": {
      "text/html": [
       "<div>\n",
       "<style scoped>\n",
       "    .dataframe tbody tr th:only-of-type {\n",
       "        vertical-align: middle;\n",
       "    }\n",
       "\n",
       "    .dataframe tbody tr th {\n",
       "        vertical-align: top;\n",
       "    }\n",
       "\n",
       "    .dataframe thead th {\n",
       "        text-align: right;\n",
       "    }\n",
       "</style>\n",
       "<table border=\"1\" class=\"dataframe\">\n",
       "  <thead>\n",
       "    <tr style=\"text-align: right;\">\n",
       "      <th></th>\n",
       "      <th>depth</th>\n",
       "      <th>width</th>\n",
       "      <th>af</th>\n",
       "      <th>n_params</th>\n",
       "      <th>epochs</th>\n",
       "      <th>unit_time</th>\n",
       "      <th>min_loss</th>\n",
       "    </tr>\n",
       "  </thead>\n",
       "  <tbody>\n",
       "    <tr>\n",
       "      <th>2</th>\n",
       "      <td>3</td>\n",
       "      <td>128</td>\n",
       "      <td>ReLU</td>\n",
       "      <td>295812</td>\n",
       "      <td>679</td>\n",
       "      <td>0.080</td>\n",
       "      <td>0.0060</td>\n",
       "    </tr>\n",
       "    <tr>\n",
       "      <th>2</th>\n",
       "      <td>2</td>\n",
       "      <td>256</td>\n",
       "      <td>ReLU</td>\n",
       "      <td>591364</td>\n",
       "      <td>533</td>\n",
       "      <td>0.116</td>\n",
       "      <td>0.0061</td>\n",
       "    </tr>\n",
       "    <tr>\n",
       "      <th>2</th>\n",
       "      <td>2</td>\n",
       "      <td>128</td>\n",
       "      <td>ReLU</td>\n",
       "      <td>279300</td>\n",
       "      <td>481</td>\n",
       "      <td>0.076</td>\n",
       "      <td>0.0064</td>\n",
       "    </tr>\n",
       "    <tr>\n",
       "      <th>3</th>\n",
       "      <td>2</td>\n",
       "      <td>256</td>\n",
       "      <td>LReLU</td>\n",
       "      <td>591364</td>\n",
       "      <td>546</td>\n",
       "      <td>0.126</td>\n",
       "      <td>0.0072</td>\n",
       "    </tr>\n",
       "    <tr>\n",
       "      <th>3</th>\n",
       "      <td>3</td>\n",
       "      <td>128</td>\n",
       "      <td>LReLU</td>\n",
       "      <td>295812</td>\n",
       "      <td>682</td>\n",
       "      <td>0.086</td>\n",
       "      <td>0.0075</td>\n",
       "    </tr>\n",
       "    <tr>\n",
       "      <th>3</th>\n",
       "      <td>2</td>\n",
       "      <td>128</td>\n",
       "      <td>LReLU</td>\n",
       "      <td>279300</td>\n",
       "      <td>538</td>\n",
       "      <td>0.076</td>\n",
       "      <td>0.0078</td>\n",
       "    </tr>\n",
       "    <tr>\n",
       "      <th>0</th>\n",
       "      <td>2</td>\n",
       "      <td>128</td>\n",
       "      <td>Tanh</td>\n",
       "      <td>279300</td>\n",
       "      <td>732</td>\n",
       "      <td>0.071</td>\n",
       "      <td>0.0101</td>\n",
       "    </tr>\n",
       "    <tr>\n",
       "      <th>0</th>\n",
       "      <td>3</td>\n",
       "      <td>128</td>\n",
       "      <td>Tanh</td>\n",
       "      <td>295812</td>\n",
       "      <td>720</td>\n",
       "      <td>0.076</td>\n",
       "      <td>0.0101</td>\n",
       "    </tr>\n",
       "    <tr>\n",
       "      <th>0</th>\n",
       "      <td>2</td>\n",
       "      <td>256</td>\n",
       "      <td>Tanh</td>\n",
       "      <td>591364</td>\n",
       "      <td>644</td>\n",
       "      <td>0.111</td>\n",
       "      <td>0.0104</td>\n",
       "    </tr>\n",
       "    <tr>\n",
       "      <th>1</th>\n",
       "      <td>2</td>\n",
       "      <td>128</td>\n",
       "      <td>Sigmoid</td>\n",
       "      <td>279300</td>\n",
       "      <td>1056</td>\n",
       "      <td>0.077</td>\n",
       "      <td>0.0179</td>\n",
       "    </tr>\n",
       "    <tr>\n",
       "      <th>1</th>\n",
       "      <td>2</td>\n",
       "      <td>256</td>\n",
       "      <td>Sigmoid</td>\n",
       "      <td>591364</td>\n",
       "      <td>662</td>\n",
       "      <td>0.120</td>\n",
       "      <td>0.0199</td>\n",
       "    </tr>\n",
       "    <tr>\n",
       "      <th>1</th>\n",
       "      <td>3</td>\n",
       "      <td>128</td>\n",
       "      <td>Sigmoid</td>\n",
       "      <td>295812</td>\n",
       "      <td>355</td>\n",
       "      <td>0.083</td>\n",
       "      <td>0.0297</td>\n",
       "    </tr>\n",
       "  </tbody>\n",
       "</table>\n",
       "</div>"
      ],
      "text/plain": [
       "   depth  width       af  n_params  epochs  unit_time  min_loss\n",
       "2      3    128     ReLU    295812     679      0.080    0.0060\n",
       "2      2    256     ReLU    591364     533      0.116    0.0061\n",
       "2      2    128     ReLU    279300     481      0.076    0.0064\n",
       "3      2    256    LReLU    591364     546      0.126    0.0072\n",
       "3      3    128    LReLU    295812     682      0.086    0.0075\n",
       "3      2    128    LReLU    279300     538      0.076    0.0078\n",
       "0      2    128     Tanh    279300     732      0.071    0.0101\n",
       "0      3    128     Tanh    295812     720      0.076    0.0101\n",
       "0      2    256     Tanh    591364     644      0.111    0.0104\n",
       "1      2    128  Sigmoid    279300    1056      0.077    0.0179\n",
       "1      2    256  Sigmoid    591364     662      0.120    0.0199\n",
       "1      3    128  Sigmoid    295812     355      0.083    0.0297"
      ]
     },
     "execution_count": 99,
     "metadata": {},
     "output_type": "execute_result"
    }
   ],
   "source": [
    "df_p['unit_time'] = np.round(df_p['unit_time'], 3)\n",
    "df_p['min_loss'] = np.round(df_p['min_loss'], 4)\n",
    "df_p"
   ]
  },
  {
   "cell_type": "markdown",
   "metadata": {},
   "source": [
    "# Convolutional approach"
   ]
  },
  {
   "cell_type": "code",
   "execution_count": null,
   "metadata": {
    "id": "6vvlJVMff-L6"
   },
   "outputs": [],
   "source": [
    "class ConvNet(nn.Module):\n",
    "    def __init__(self, in_channels=2, out_features=4, bn=False, af=nn.ReLU(), transform_output=False):\n",
    "        super().__init__()\n",
    "\n",
    "        self.conv = nn.Sequential(\n",
    "            nn.Conv2d(in_channels=in_channels, out_channels=4, kernel_size=3, padding='same', padding_mode='reflect'),\n",
    "            nn.BatchNorm2d(num_features=4),\n",
    "            af,\n",
    "            nn.Conv2d(in_channels=4, out_channels=8, kernel_size=3, padding='same', padding_mode='reflect'),\n",
    "            nn.BatchNorm2d(num_features=8),\n",
    "            af,\n",
    "            nn.MaxPool2d(kernel_size=2, stride=2),\n",
    "            nn.Conv2d(in_channels=8, out_channels=16, kernel_size=3, padding='same', padding_mode='reflect'),\n",
    "            nn.BatchNorm2d(num_features=16),\n",
    "            af,\n",
    "            nn.Conv2d(in_channels=16, out_channels=32, kernel_size=3, padding='same', padding_mode='reflect'),\n",
    "            nn.BatchNorm2d(num_features=32),\n",
    "            af,\n",
    "            nn.MaxPool2d(kernel_size=2, stride=2),\n",
    "            nn.Conv2d(in_channels=32, out_channels=64, kernel_size=3, padding='same', padding_mode='reflect'),\n",
    "            nn.BatchNorm2d(num_features=64),\n",
    "            af,\n",
    "            nn.Conv2d(in_channels=64, out_channels=128, kernel_size=3, padding='same', padding_mode='reflect'),\n",
    "            nn.BatchNorm2d(num_features=128),\n",
    "            af,\n",
    "            nn.MaxPool2d(kernel_size=2, stride=2),\n",
    "            nn.Conv2d(in_channels=128, out_channels=256, kernel_size=3, padding='same', padding_mode='reflect'),\n",
    "            nn.BatchNorm2d(num_features=256),\n",
    "            af,\n",
    "        )\n",
    "        \n",
    "        self.avgpool = nn.AdaptiveAvgPool2d(output_size=1)\n",
    "        \n",
    "        self.fc = nn.Linear(in_features=256, out_features=out_features)\n",
    "\n",
    "        self.transform_output = transform_output\n",
    "        \n",
    "    def forward(self, x):\n",
    "        y = self.conv(x)\n",
    "        y = self.avgpool(y)\n",
    "        y = torch.flatten(y, start_dim=1)\n",
    "        y = self.fc(y)\n",
    "\n",
    "        if self.transform_output:\n",
    "            y = nn.functional.sigmoid(y)\n",
    "\n",
    "        return y"
   ]
  },
  {
   "cell_type": "code",
   "execution_count": null,
   "metadata": {
    "colab": {
     "base_uri": "https://localhost:8080/"
    },
    "id": "ybafcHMDiWdW",
    "outputId": "ab297308-2a7a-4299-b1df-6f77e2035b24"
   },
   "outputs": [
    {
     "name": "stdout",
     "output_type": "stream",
     "text": [
      "----------------------------------------------------------------\n",
      "        Layer (type)               Output Shape         Param #\n",
      "================================================================\n",
      "            Conv2d-1            [-1, 4, 32, 32]              76\n",
      "       BatchNorm2d-2            [-1, 4, 32, 32]               8\n",
      "              ReLU-3            [-1, 4, 32, 32]               0\n",
      "            Conv2d-4            [-1, 8, 32, 32]             296\n",
      "       BatchNorm2d-5            [-1, 8, 32, 32]              16\n",
      "              ReLU-6            [-1, 8, 32, 32]               0\n",
      "         MaxPool2d-7            [-1, 8, 16, 16]               0\n",
      "            Conv2d-8           [-1, 16, 16, 16]           1,168\n",
      "       BatchNorm2d-9           [-1, 16, 16, 16]              32\n",
      "             ReLU-10           [-1, 16, 16, 16]               0\n",
      "           Conv2d-11           [-1, 32, 16, 16]           4,640\n",
      "      BatchNorm2d-12           [-1, 32, 16, 16]              64\n",
      "             ReLU-13           [-1, 32, 16, 16]               0\n",
      "        MaxPool2d-14             [-1, 32, 8, 8]               0\n",
      "           Conv2d-15             [-1, 64, 8, 8]          18,496\n",
      "      BatchNorm2d-16             [-1, 64, 8, 8]             128\n",
      "             ReLU-17             [-1, 64, 8, 8]               0\n",
      "           Conv2d-18            [-1, 128, 8, 8]          73,856\n",
      "      BatchNorm2d-19            [-1, 128, 8, 8]             256\n",
      "             ReLU-20            [-1, 128, 8, 8]               0\n",
      "        MaxPool2d-21            [-1, 128, 4, 4]               0\n",
      "           Conv2d-22            [-1, 256, 4, 4]         295,168\n",
      "      BatchNorm2d-23            [-1, 256, 4, 4]             512\n",
      "             ReLU-24            [-1, 256, 4, 4]               0\n",
      "AdaptiveAvgPool2d-25            [-1, 256, 1, 1]               0\n",
      "           Linear-26                    [-1, 4]           1,028\n",
      "================================================================\n",
      "Total params: 395,744\n",
      "Trainable params: 395,744\n",
      "Non-trainable params: 0\n",
      "----------------------------------------------------------------\n",
      "Input size (MB): 0.01\n",
      "Forward/backward pass size (MB): 0.99\n",
      "Params size (MB): 1.51\n",
      "Estimated Total Size (MB): 2.50\n",
      "----------------------------------------------------------------\n"
     ]
    }
   ],
   "source": [
    "summary(ConvNet(), (2,32,32))"
   ]
  },
  {
   "cell_type": "code",
   "execution_count": null,
   "metadata": {
    "id": "nSKYljfhU1Rv"
   },
   "outputs": [],
   "source": [
    "afs = [('ReLU',nn.ReLU()), ('LReLU', nn.LeakyReLU(negative_slope=0.2)), ('Tanh',nn.Tanh())]\n",
    "sigmoids = [True, False]"
   ]
  },
  {
   "cell_type": "code",
   "execution_count": null,
   "metadata": {
    "colab": {
     "base_uri": "https://localhost:8080/"
    },
    "id": "AyFQ6SorkCxK",
    "outputId": "33a0475f-e525-45be-c17a-a3c80b8d5334"
   },
   "outputs": [
    {
     "name": "stderr",
     "output_type": "stream",
     "text": [
      "Epochs:  22%|███████████████▍                                                       | 326/1500 [14:06<50:46,  2.60s/it]\n"
     ]
    }
   ],
   "source": [
    "n_epoch = 1500\n",
    "cresultstest = []\n",
    "for sigmoid in sigmoids:\n",
    "    for af_name, af in afs:\n",
    "        criterion = nn.MSELoss()\n",
    "        convnet = ConvNet(bn=True, af=af, transform_output=sigmoid).double()\n",
    "        sgd = torch.optim.SGD(convnet.parameters(), lr=0.01, momentum=0.9, weight_decay=1e-3)\n",
    "\n",
    "        start_time = time.time()\n",
    "        train_losses, valid_losses, model = utils.train_model(convnet, train_loader, test_loader, criterion, sgd, device, n_epoch, early_stop=True, patience=30)\n",
    "        end_time = time.time()\n",
    "\n",
    "        cresultstest.append((af_name, True, sigmoid, train_losses, valid_losses, end_time-start_time, sum(p.numel() for p in convnet.parameters())))"
   ]
  },
  {
   "cell_type": "code",
   "execution_count": null,
   "metadata": {
    "colab": {
     "base_uri": "https://localhost:8080/",
     "height": 81
    },
    "id": "PLdIg1jN5F-Y",
    "outputId": "2980c401-1019-4423-b3f9-9900efe775bf"
   },
   "outputs": [
    {
     "data": {
      "text/html": [
       "<div>\n",
       "<style scoped>\n",
       "    .dataframe tbody tr th:only-of-type {\n",
       "        vertical-align: middle;\n",
       "    }\n",
       "\n",
       "    .dataframe tbody tr th {\n",
       "        vertical-align: top;\n",
       "    }\n",
       "\n",
       "    .dataframe thead th {\n",
       "        text-align: right;\n",
       "    }\n",
       "</style>\n",
       "<table border=\"1\" class=\"dataframe\">\n",
       "  <thead>\n",
       "    <tr style=\"text-align: right;\">\n",
       "      <th></th>\n",
       "      <th>af</th>\n",
       "      <th>bn</th>\n",
       "      <th>sigmoid</th>\n",
       "      <th>train_losses</th>\n",
       "      <th>valid_losses</th>\n",
       "      <th>exec_time</th>\n",
       "      <th>n_params</th>\n",
       "      <th>epochs</th>\n",
       "      <th>min_loss</th>\n",
       "      <th>unit_time</th>\n",
       "    </tr>\n",
       "  </thead>\n",
       "  <tbody>\n",
       "    <tr>\n",
       "      <th>0</th>\n",
       "      <td>ReLU</td>\n",
       "      <td>True</td>\n",
       "      <td>True</td>\n",
       "      <td>[0.08286427588365733, 0.05401930267246571, 0.0...</td>\n",
       "      <td>[0.08343035057565157, 0.06598353972865537, 0.0...</td>\n",
       "      <td>846.020044</td>\n",
       "      <td>395744</td>\n",
       "      <td>327</td>\n",
       "      <td>0.000897</td>\n",
       "      <td>2.587217</td>\n",
       "    </tr>\n",
       "  </tbody>\n",
       "</table>\n",
       "</div>"
      ],
      "text/plain": [
       "     af    bn  sigmoid                                       train_losses  \\\n",
       "0  ReLU  True     True  [0.08286427588365733, 0.05401930267246571, 0.0...   \n",
       "\n",
       "                                        valid_losses   exec_time  n_params  \\\n",
       "0  [0.08343035057565157, 0.06598353972865537, 0.0...  846.020044    395744   \n",
       "\n",
       "   epochs  min_loss  unit_time  \n",
       "0     327  0.000897   2.587217  "
      ]
     },
     "execution_count": 41,
     "metadata": {},
     "output_type": "execute_result"
    }
   ],
   "source": [
    "cdftest = pd.DataFrame(cresultstest, columns=['af', 'bn', 'sigmoid', 'train_losses', 'valid_losses', 'exec_time', 'n_params'])\n",
    "cdftest['epochs'] = cdftest.valid_losses.apply(lambda x: len(x))\n",
    "cdftest['min_loss'] = cdftest.valid_losses.apply(lambda x: np.min(x))\n",
    "cdftest['unit_time'] = cdftest.exec_time / cdftest.epochs\n",
    "cdftest"
   ]
  },
  {
   "cell_type": "code",
   "execution_count": null,
   "metadata": {
    "id": "6uYhST4_VJN_"
   },
   "outputs": [],
   "source": [
    "cdf = pd.DataFrame(cresultstest, columns=['af', 'bn', 'sigmoid', 'train_losses', 'valid_losses', 'exec_time', 'n_params'])"
   ]
  },
  {
   "cell_type": "code",
   "execution_count": null,
   "metadata": {
    "colab": {
     "base_uri": "https://localhost:8080/",
     "height": 238
    },
    "id": "Oqo94wxKdp-V",
    "outputId": "e941d595-99ef-4ad8-c4c3-230d52a3121d"
   },
   "outputs": [
    {
     "data": {
      "text/html": [
       "<div>\n",
       "<style scoped>\n",
       "    .dataframe tbody tr th:only-of-type {\n",
       "        vertical-align: middle;\n",
       "    }\n",
       "\n",
       "    .dataframe tbody tr th {\n",
       "        vertical-align: top;\n",
       "    }\n",
       "\n",
       "    .dataframe thead th {\n",
       "        text-align: right;\n",
       "    }\n",
       "</style>\n",
       "<table border=\"1\" class=\"dataframe\">\n",
       "  <thead>\n",
       "    <tr style=\"text-align: right;\">\n",
       "      <th></th>\n",
       "      <th>af</th>\n",
       "      <th>bn</th>\n",
       "      <th>sigmoid</th>\n",
       "      <th>train_losses</th>\n",
       "      <th>valid_losses</th>\n",
       "      <th>exec_time</th>\n",
       "      <th>n_params</th>\n",
       "      <th>epochs</th>\n",
       "      <th>min_loss</th>\n",
       "      <th>unit_time</th>\n",
       "    </tr>\n",
       "  </thead>\n",
       "  <tbody>\n",
       "    <tr>\n",
       "      <th>0</th>\n",
       "      <td>Tanh</td>\n",
       "      <td>True</td>\n",
       "      <td>False</td>\n",
       "      <td>[0.1851047388433602, 0.05046032796727945, 0.02...</td>\n",
       "      <td>[0.18997623631355082, 0.06700865128391807, 0.1...</td>\n",
       "      <td>292.712491</td>\n",
       "      <td>395744</td>\n",
       "      <td>97</td>\n",
       "      <td>0.001085</td>\n",
       "      <td>3.017655</td>\n",
       "    </tr>\n",
       "    <tr>\n",
       "      <th>1</th>\n",
       "      <td>ReLU</td>\n",
       "      <td>True</td>\n",
       "      <td>False</td>\n",
       "      <td>[0.10834828164201453, 0.04003603230057467, 0.0...</td>\n",
       "      <td>[0.05857554125420121, 0.0463885034178358, 0.02...</td>\n",
       "      <td>509.004701</td>\n",
       "      <td>395744</td>\n",
       "      <td>167</td>\n",
       "      <td>0.000854</td>\n",
       "      <td>3.047932</td>\n",
       "    </tr>\n",
       "    <tr>\n",
       "      <th>2</th>\n",
       "      <td>LReLU</td>\n",
       "      <td>True</td>\n",
       "      <td>False</td>\n",
       "      <td>[0.14534476416171832, 0.04689668439916686, 0.0...</td>\n",
       "      <td>[0.053341817908313896, 0.0557850463759183, 0.0...</td>\n",
       "      <td>603.577671</td>\n",
       "      <td>395744</td>\n",
       "      <td>193</td>\n",
       "      <td>0.000883</td>\n",
       "      <td>3.127345</td>\n",
       "    </tr>\n",
       "    <tr>\n",
       "      <th>3</th>\n",
       "      <td>Tanh</td>\n",
       "      <td>True</td>\n",
       "      <td>True</td>\n",
       "      <td>[0.07646859255606529, 0.050575554454322776, 0....</td>\n",
       "      <td>[0.09337351420841107, 0.07695969449066706, 0.0...</td>\n",
       "      <td>480.848087</td>\n",
       "      <td>395744</td>\n",
       "      <td>157</td>\n",
       "      <td>0.001582</td>\n",
       "      <td>3.062727</td>\n",
       "    </tr>\n",
       "    <tr>\n",
       "      <th>4</th>\n",
       "      <td>ReLU</td>\n",
       "      <td>True</td>\n",
       "      <td>True</td>\n",
       "      <td>[0.06434675593873453, 0.037456673338280455, 0....</td>\n",
       "      <td>[0.07377596120974936, 0.052470214204725196, 0....</td>\n",
       "      <td>840.371446</td>\n",
       "      <td>395744</td>\n",
       "      <td>279</td>\n",
       "      <td>0.000710</td>\n",
       "      <td>3.012084</td>\n",
       "    </tr>\n",
       "    <tr>\n",
       "      <th>5</th>\n",
       "      <td>LReLU</td>\n",
       "      <td>True</td>\n",
       "      <td>True</td>\n",
       "      <td>[0.07558034782094476, 0.04568678771009108, 0.0...</td>\n",
       "      <td>[0.07654668843164268, 0.05730005577977766, 0.0...</td>\n",
       "      <td>731.677356</td>\n",
       "      <td>395744</td>\n",
       "      <td>238</td>\n",
       "      <td>0.000759</td>\n",
       "      <td>3.074275</td>\n",
       "    </tr>\n",
       "  </tbody>\n",
       "</table>\n",
       "</div>"
      ],
      "text/plain": [
       "      af    bn  sigmoid                                       train_losses  \\\n",
       "0   Tanh  True    False  [0.1851047388433602, 0.05046032796727945, 0.02...   \n",
       "1   ReLU  True    False  [0.10834828164201453, 0.04003603230057467, 0.0...   \n",
       "2  LReLU  True    False  [0.14534476416171832, 0.04689668439916686, 0.0...   \n",
       "3   Tanh  True     True  [0.07646859255606529, 0.050575554454322776, 0....   \n",
       "4   ReLU  True     True  [0.06434675593873453, 0.037456673338280455, 0....   \n",
       "5  LReLU  True     True  [0.07558034782094476, 0.04568678771009108, 0.0...   \n",
       "\n",
       "                                        valid_losses   exec_time  n_params  \\\n",
       "0  [0.18997623631355082, 0.06700865128391807, 0.1...  292.712491    395744   \n",
       "1  [0.05857554125420121, 0.0463885034178358, 0.02...  509.004701    395744   \n",
       "2  [0.053341817908313896, 0.0557850463759183, 0.0...  603.577671    395744   \n",
       "3  [0.09337351420841107, 0.07695969449066706, 0.0...  480.848087    395744   \n",
       "4  [0.07377596120974936, 0.052470214204725196, 0....  840.371446    395744   \n",
       "5  [0.07654668843164268, 0.05730005577977766, 0.0...  731.677356    395744   \n",
       "\n",
       "   epochs  min_loss  unit_time  \n",
       "0      97  0.001085   3.017655  \n",
       "1     167  0.000854   3.047932  \n",
       "2     193  0.000883   3.127345  \n",
       "3     157  0.001582   3.062727  \n",
       "4     279  0.000710   3.012084  \n",
       "5     238  0.000759   3.074275  "
      ]
     },
     "execution_count": 32,
     "metadata": {},
     "output_type": "execute_result"
    }
   ],
   "source": [
    "cdf['epochs'] = cdf.valid_losses.apply(lambda x: len(x))\n",
    "cdf['min_loss'] = cdf.valid_losses.apply(lambda x: np.min(x))\n",
    "cdf['unit_time'] = cdf.exec_time / cdf.epochs\n",
    "cdf"
   ]
  },
  {
   "cell_type": "code",
   "execution_count": null,
   "metadata": {
    "colab": {
     "base_uri": "https://localhost:8080/",
     "height": 238
    },
    "id": "341WqeyNdx3z",
    "outputId": "ff8c024a-11b8-4281-eac4-e2c15e1e942d"
   },
   "outputs": [
    {
     "data": {
      "text/html": [
       "<div>\n",
       "<style scoped>\n",
       "    .dataframe tbody tr th:only-of-type {\n",
       "        vertical-align: middle;\n",
       "    }\n",
       "\n",
       "    .dataframe tbody tr th {\n",
       "        vertical-align: top;\n",
       "    }\n",
       "\n",
       "    .dataframe thead th {\n",
       "        text-align: right;\n",
       "    }\n",
       "</style>\n",
       "<table border=\"1\" class=\"dataframe\">\n",
       "  <thead>\n",
       "    <tr style=\"text-align: right;\">\n",
       "      <th></th>\n",
       "      <th>af</th>\n",
       "      <th>sigmoid</th>\n",
       "      <th>n_params</th>\n",
       "      <th>epochs</th>\n",
       "      <th>unit_time</th>\n",
       "      <th>min_loss</th>\n",
       "    </tr>\n",
       "  </thead>\n",
       "  <tbody>\n",
       "    <tr>\n",
       "      <th>4</th>\n",
       "      <td>ReLU</td>\n",
       "      <td>True</td>\n",
       "      <td>395744</td>\n",
       "      <td>279</td>\n",
       "      <td>3.012084</td>\n",
       "      <td>0.000710</td>\n",
       "    </tr>\n",
       "    <tr>\n",
       "      <th>5</th>\n",
       "      <td>LReLU</td>\n",
       "      <td>True</td>\n",
       "      <td>395744</td>\n",
       "      <td>238</td>\n",
       "      <td>3.074275</td>\n",
       "      <td>0.000759</td>\n",
       "    </tr>\n",
       "    <tr>\n",
       "      <th>1</th>\n",
       "      <td>ReLU</td>\n",
       "      <td>False</td>\n",
       "      <td>395744</td>\n",
       "      <td>167</td>\n",
       "      <td>3.047932</td>\n",
       "      <td>0.000854</td>\n",
       "    </tr>\n",
       "    <tr>\n",
       "      <th>2</th>\n",
       "      <td>LReLU</td>\n",
       "      <td>False</td>\n",
       "      <td>395744</td>\n",
       "      <td>193</td>\n",
       "      <td>3.127345</td>\n",
       "      <td>0.000883</td>\n",
       "    </tr>\n",
       "    <tr>\n",
       "      <th>0</th>\n",
       "      <td>Tanh</td>\n",
       "      <td>False</td>\n",
       "      <td>395744</td>\n",
       "      <td>97</td>\n",
       "      <td>3.017655</td>\n",
       "      <td>0.001085</td>\n",
       "    </tr>\n",
       "    <tr>\n",
       "      <th>3</th>\n",
       "      <td>Tanh</td>\n",
       "      <td>True</td>\n",
       "      <td>395744</td>\n",
       "      <td>157</td>\n",
       "      <td>3.062727</td>\n",
       "      <td>0.001582</td>\n",
       "    </tr>\n",
       "  </tbody>\n",
       "</table>\n",
       "</div>"
      ],
      "text/plain": [
       "      af  sigmoid  n_params  epochs  unit_time  min_loss\n",
       "4   ReLU     True    395744     279   3.012084  0.000710\n",
       "5  LReLU     True    395744     238   3.074275  0.000759\n",
       "1   ReLU    False    395744     167   3.047932  0.000854\n",
       "2  LReLU    False    395744     193   3.127345  0.000883\n",
       "0   Tanh    False    395744      97   3.017655  0.001085\n",
       "3   Tanh     True    395744     157   3.062727  0.001582"
      ]
     },
     "execution_count": 33,
     "metadata": {},
     "output_type": "execute_result"
    }
   ],
   "source": [
    "cdf = cdf.sort_values(by='min_loss')\n",
    "cdf_p = cdf[['af', 'sigmoid', 'n_params', 'epochs', 'unit_time', 'min_loss']]\n",
    "cdf_p"
   ]
  },
  {
   "cell_type": "code",
   "execution_count": null,
   "metadata": {
    "colab": {
     "base_uri": "https://localhost:8080/",
     "height": 446
    },
    "id": "HMlzklZXd3DP",
    "outputId": "d6d9f1fd-41b6-4cbb-a73a-1428dbab9155"
   },
   "outputs": [
    {
     "name": "stderr",
     "output_type": "stream",
     "text": [
      "<ipython-input-34-04bafa5ebdc7>:1: SettingWithCopyWarning: \n",
      "A value is trying to be set on a copy of a slice from a DataFrame.\n",
      "Try using .loc[row_indexer,col_indexer] = value instead\n",
      "\n",
      "See the caveats in the documentation: https://pandas.pydata.org/pandas-docs/stable/user_guide/indexing.html#returning-a-view-versus-a-copy\n",
      "  cdf_p['unit_time'] = np.round(cdf_p['unit_time'], 3)\n",
      "<ipython-input-34-04bafa5ebdc7>:2: SettingWithCopyWarning: \n",
      "A value is trying to be set on a copy of a slice from a DataFrame.\n",
      "Try using .loc[row_indexer,col_indexer] = value instead\n",
      "\n",
      "See the caveats in the documentation: https://pandas.pydata.org/pandas-docs/stable/user_guide/indexing.html#returning-a-view-versus-a-copy\n",
      "  cdf_p['min_loss'] = np.round(cdf_p['min_loss'], 5)\n"
     ]
    },
    {
     "data": {
      "text/html": [
       "<div>\n",
       "<style scoped>\n",
       "    .dataframe tbody tr th:only-of-type {\n",
       "        vertical-align: middle;\n",
       "    }\n",
       "\n",
       "    .dataframe tbody tr th {\n",
       "        vertical-align: top;\n",
       "    }\n",
       "\n",
       "    .dataframe thead th {\n",
       "        text-align: right;\n",
       "    }\n",
       "</style>\n",
       "<table border=\"1\" class=\"dataframe\">\n",
       "  <thead>\n",
       "    <tr style=\"text-align: right;\">\n",
       "      <th></th>\n",
       "      <th>af</th>\n",
       "      <th>sigmoid</th>\n",
       "      <th>n_params</th>\n",
       "      <th>epochs</th>\n",
       "      <th>unit_time</th>\n",
       "      <th>min_loss</th>\n",
       "    </tr>\n",
       "  </thead>\n",
       "  <tbody>\n",
       "    <tr>\n",
       "      <th>4</th>\n",
       "      <td>ReLU</td>\n",
       "      <td>True</td>\n",
       "      <td>395744</td>\n",
       "      <td>279</td>\n",
       "      <td>3.012</td>\n",
       "      <td>0.00071</td>\n",
       "    </tr>\n",
       "    <tr>\n",
       "      <th>5</th>\n",
       "      <td>LReLU</td>\n",
       "      <td>True</td>\n",
       "      <td>395744</td>\n",
       "      <td>238</td>\n",
       "      <td>3.074</td>\n",
       "      <td>0.00076</td>\n",
       "    </tr>\n",
       "    <tr>\n",
       "      <th>1</th>\n",
       "      <td>ReLU</td>\n",
       "      <td>False</td>\n",
       "      <td>395744</td>\n",
       "      <td>167</td>\n",
       "      <td>3.048</td>\n",
       "      <td>0.00085</td>\n",
       "    </tr>\n",
       "    <tr>\n",
       "      <th>2</th>\n",
       "      <td>LReLU</td>\n",
       "      <td>False</td>\n",
       "      <td>395744</td>\n",
       "      <td>193</td>\n",
       "      <td>3.127</td>\n",
       "      <td>0.00088</td>\n",
       "    </tr>\n",
       "    <tr>\n",
       "      <th>0</th>\n",
       "      <td>Tanh</td>\n",
       "      <td>False</td>\n",
       "      <td>395744</td>\n",
       "      <td>97</td>\n",
       "      <td>3.018</td>\n",
       "      <td>0.00108</td>\n",
       "    </tr>\n",
       "    <tr>\n",
       "      <th>3</th>\n",
       "      <td>Tanh</td>\n",
       "      <td>True</td>\n",
       "      <td>395744</td>\n",
       "      <td>157</td>\n",
       "      <td>3.063</td>\n",
       "      <td>0.00158</td>\n",
       "    </tr>\n",
       "  </tbody>\n",
       "</table>\n",
       "</div>"
      ],
      "text/plain": [
       "      af  sigmoid  n_params  epochs  unit_time  min_loss\n",
       "4   ReLU     True    395744     279      3.012   0.00071\n",
       "5  LReLU     True    395744     238      3.074   0.00076\n",
       "1   ReLU    False    395744     167      3.048   0.00085\n",
       "2  LReLU    False    395744     193      3.127   0.00088\n",
       "0   Tanh    False    395744      97      3.018   0.00108\n",
       "3   Tanh     True    395744     157      3.063   0.00158"
      ]
     },
     "execution_count": 34,
     "metadata": {},
     "output_type": "execute_result"
    }
   ],
   "source": [
    "cdf_p['unit_time'] = np.round(cdf_p['unit_time'], 3)\n",
    "cdf_p['min_loss'] = np.round(cdf_p['min_loss'], 5)\n",
    "cdf_p"
   ]
  },
  {
   "cell_type": "code",
   "execution_count": null,
   "metadata": {
    "colab": {
     "base_uri": "https://localhost:8080/",
     "height": 458
    },
    "id": "9SeNtJLguVj5",
    "outputId": "6dfd2d80-1c1d-4df2-8340-2c3386086476"
   },
   "outputs": [
    {
     "data": {
      "image/png": "[encoded data removed]",
      "text/plain": [
       "<Figure size 720x504 with 1 Axes>"
      ]
     },
     "metadata": {
      "needs_background": "light"
     },
     "output_type": "display_data"
    }
   ],
   "source": [
    "start = 2\n",
    "valid_losses1 = cdf.iloc[0]['valid_losses']\n",
    "valid_losses2 = cdf.iloc[1]['valid_losses']\n",
    "valid_losses3 = cdf.iloc[4]['valid_losses']\n",
    "    \n",
    "_, ax = plt.subplots(1,1,figsize=(10,7))\n",
    "\n",
    "x1 = np.arange(len(valid_losses1[start:]))+1\n",
    "x2 = np.arange(len(valid_losses2[start:]))+1\n",
    "x3 = np.arange(len(valid_losses3[start:]))+1\n",
    "\n",
    "ax.set_title('Validation loss over epochs')\n",
    "ax.set_xlabel('Epoch')\n",
    "ax.set_ylabel('MSE')\n",
    "\n",
    "colors = plt.cm.BrBG(np.linspace(0, 1, 4))\n",
    "\n",
    "ax.plot(x1, valid_losses1[start:], label='ReLU', color=colors[0])\n",
    "ax.plot(x2, valid_losses2[start:], label='LReLU', color=colors[1])\n",
    "ax.plot(x3, valid_losses3[start:], label='Tanh', color=colors[2])\n",
    "\n",
    "\n",
    "ax.legend()\n",
    "plt.savefig('conv_mse_new')\n",
    "plt.show()"
   ]
  },
  {
   "cell_type": "code",
   "execution_count": null,
   "metadata": {
    "colab": {
     "base_uri": "https://localhost:8080/"
    },
    "id": "dPrnF3pkl0-1",
    "outputId": "911c6633-493e-426c-ed4c-75e871aed8fc"
   },
   "outputs": [
    {
     "name": "stderr",
     "output_type": "stream",
     "text": [
      "Epochs:  12%|████████                                                             | 176/1500 [08:52<1:06:42,  3.02s/it]\n"
     ]
    }
   ],
   "source": [
    "n_epoch = 1500\n",
    "criterion = nn.MSELoss()\n",
    "convnet = ConvNet(bn=True, af=nn.ReLU(), transform_output=False).double()\n",
    "sgd = torch.optim.SGD(convnet.parameters(), lr=0.01, momentum=0.9, weight_decay=1e-3)\n",
    "\n",
    "train_losses, valid_losses, convnet = train_model(convnet, train_loader, test_loader, criterion, sgd, device, n_epoch, early_stop=True, patience=30)"
   ]
  },
  {
   "cell_type": "code",
   "execution_count": null,
   "metadata": {
    "colab": {
     "base_uri": "https://localhost:8080/"
    },
    "id": "HIILQHEqMpu-",
    "outputId": "20cc2b96-b1dd-47e2-edfb-2a4053ce6621"
   },
   "outputs": [
    {
     "data": {
      "text/plain": [
       "(0.0008845511059950783, 0.0010286927727580616)"
      ]
     },
     "execution_count": 50,
     "metadata": {},
     "output_type": "execute_result"
    }
   ],
   "source": [
    "np.min(valid_losses), valid_losses[-1]"
   ]
  },
  {
   "cell_type": "code",
   "execution_count": null,
   "metadata": {
    "id": "wZKVdiFtP7yv"
   },
   "outputs": [],
   "source": [
    "convnet = torch.load('./models/convnet32_2.model')"
   ]
  },
  {
   "cell_type": "code",
   "execution_count": null,
   "metadata": {
    "colab": {
     "base_uri": "https://localhost:8080/"
    },
    "id": "TeT2WI4fo583",
    "outputId": "a1c7621a-76c0-4436-940e-6f713ea30f49"
   },
   "outputs": [
    {
     "data": {
      "text/plain": [
       "0.0008971235549863725"
      ]
     },
     "execution_count": 43,
     "metadata": {},
     "output_type": "execute_result"
    }
   ],
   "source": [
    "ev = utils.Evaluator(model, dataset=test_loader.dataset.data)\n",
    "ev.calculate_loss()"
   ]
  },
  {
   "cell_type": "code",
   "execution_count": null,
   "metadata": {
    "colab": {
     "base_uri": "https://localhost:8080/",
     "height": 449
    },
    "id": "58D1RLxFQ7eA",
    "outputId": "7bd5e7b3-588c-4a3e-d763-4b0fef4ae8df"
   },
   "outputs": [
    {
     "data": {
      "image/png": "[encoded data removed]",
      "text/plain": [
       "<Figure size 504x504 with 1 Axes>"
      ]
     },
     "metadata": {
      "needs_background": "light"
     },
     "output_type": "display_data"
    }
   ],
   "source": [
    "ev.plot_average(avg=0.00071, filename='conv_pred4')"
   ]
  },
  {
   "cell_type": "code",
   "execution_count": null,
   "metadata": {
    "colab": {
     "base_uri": "https://localhost:8080/"
    },
    "id": "g6e-kGDbMnei",
    "outputId": "3f237b34-ed0f-42b3-e0f0-98dc33522d5b"
   },
   "outputs": [
    {
     "data": {
      "text/plain": [
       "0.07500632644663335"
      ]
     },
     "execution_count": 44,
     "metadata": {},
     "output_type": "execute_result"
    }
   ],
   "source": [
    "test_ev = utils.Evaluator(model, dataset=test_data)\n",
    "test_ev.calculate_loss()"
   ]
  },
  {
   "cell_type": "code",
   "execution_count": null,
   "metadata": {
    "colab": {
     "base_uri": "https://localhost:8080/",
     "height": 449
    },
    "id": "WZi4KGBpt2Tj",
    "outputId": "6503db96-51ac-4041-c90b-e342976a938e"
   },
   "outputs": [
    {
     "data": {
      "image/png": "[encoded data removed]",
      "text/plain": [
       "<Figure size 504x504 with 1 Axes>"
      ]
     },
     "metadata": {
      "needs_background": "light"
     },
     "output_type": "display_data"
    }
   ],
   "source": [
    "test_ev.plot_average(avg=0.0937, tol=0.01, filename='conv_pred_test3')"
   ]
  },
  {
   "cell_type": "code",
   "execution_count": null,
   "metadata": {
    "colab": {
     "base_uri": "https://localhost:8080/"
    },
    "id": "QbmY9PbxO3T5",
    "outputId": "60503738-d869-48c8-bfae-0ade4f09073c"
   },
   "outputs": [
    {
     "data": {
      "text/plain": [
       "0.023251016206711946"
      ]
     },
     "execution_count": 45,
     "metadata": {},
     "output_type": "execute_result"
    }
   ],
   "source": [
    "test_predictor = nn.Sequential(\n",
    "    nn.AvgPool2d(kernel_size=2, stride=2),\n",
    "    model\n",
    ")\n",
    "\n",
    "test_ev2 = utils.Evaluator(test_predictor, dataset=test_data)\n",
    "test_ev2.calculate_loss()"
   ]
  },
  {
   "cell_type": "code",
   "execution_count": null,
   "metadata": {
    "id": "tjw_LYDZUlVN"
   },
   "outputs": [],
   "source": [
    "torch.save(model, './models/convnet32_3.model')"
   ]
  }
 ],
 "metadata": {
  "colab": {
   "provenance": []
  },
  "kernelspec": {
   "display_name": "Python 3",
   "language": "python",
   "name": "python3"
  },
  "language_info": {
   "codemirror_mode": {
    "name": "ipython",
    "version": 3
   },
   "file_extension": ".py",
   "mimetype": "text/x-python",
   "name": "python",
   "nbconvert_exporter": "python",
   "pygments_lexer": "ipython3",
   "version": "3.8.5"
  }
 },
 "nbformat": 4,
 "nbformat_minor": 1
}
